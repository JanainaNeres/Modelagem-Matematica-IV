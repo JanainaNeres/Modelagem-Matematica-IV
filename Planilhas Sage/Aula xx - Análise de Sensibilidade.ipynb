{
 "cells": [
  {
   "cell_type": "markdown",
   "metadata": {},
   "source": [
    "# Análise de Sensibilidade\n",
    "Este tipo de análise se propõe a medir a influencia de cada parâmetro do modelo sobre o resultado da simulação. A Sensibilidade do modelo à cada parâmetros é representada por um valor numérico chamado de *índice de sensibilidade*. estes índices pode ser de vários tipos:\n",
    "* **Indices de primeira ordem** medem a contribuição de cada parâmetro individualmente para a variância da saída do modelo.\n",
    "* **Indices de segunda ordem**  medem a contribuição de pares de parâmetros para a variância da saída do modelo.\n",
    "* **Indices de ordem total** medem a contribuição de cada parâmetro incluindo todas as suas interações para a variância da saída do modelo.\n",
    "\n",
    "Para realizarmos esta análise vamos precisar instalar duas bibliotecas: [salib](https://salib.readthedocs.io/en/latest/) e [epimodels](https://github.com/fccoelho/epimodels). Para instalá-los, basta ativar a shell do Sage:\n",
    "```bash\n",
    "sage -sh\n",
    "```\n",
    "e executar os seguintes comandos:\n",
    "```\n",
    "pip install salib\n",
    "pip install epimodels\n",
    "```\n",
    "\n"
   ]
  },
  {
   "cell_type": "code",
   "execution_count": 1,
   "metadata": {},
   "outputs": [],
   "source": [
    "%display typeset"
   ]
  },
  {
   "cell_type": "code",
   "execution_count": 107,
   "metadata": {},
   "outputs": [],
   "source": [
    "from SALib.sample import saltelli\n",
    "from SALib.analyze import sobol\n",
    "from epimodels.continuous import models as cm\n",
    "import numpy as np\n",
    "import pandas as pd\n",
    "import pylab as plt"
   ]
  },
  {
   "cell_type": "code",
   "execution_count": 7,
   "metadata": {},
   "outputs": [],
   "source": [
    "my_model = cm.SEQIAHR()"
   ]
  },
  {
   "cell_type": "code",
   "execution_count": 11,
   "metadata": {},
   "outputs": [
    {
     "data": {
      "text/html": [
       "<html><script type=\"math/tex; mode=display\">\\newcommand{\\Bold}[1]{\\mathbf{#1}}\\verb|OrderedDict([('chi',|\\phantom{\\verb!x!}\\verb|'$\\\\chi'),|\\phantom{\\verb!x!}\\verb|('phi',|\\phantom{\\verb!x!}\\verb|'$\\\\phi$'),|\\phantom{\\verb!x!}\\verb|('beta',|\\phantom{\\verb!x!}\\verb|'$\\\\beta$'),|\\phantom{\\verb!x!}\\verb|('rho',|\\phantom{\\verb!x!}\\verb|'$\\\\rho$'),|\\phantom{\\verb!x!}\\verb|('delta',|\\phantom{\\verb!x!}\\verb|'$\\\\delta$'),|\\phantom{\\verb!x!}\\verb|('gamma',|\\phantom{\\verb!x!}\\verb|'$\\\\gamma$'),|\\phantom{\\verb!x!}\\verb|('alpha',|\\phantom{\\verb!x!}\\verb|'$\\\\alpha$'),|\\phantom{\\verb!x!}\\verb|('mu',|\\phantom{\\verb!x!}\\verb|'$\\\\mu$'),|\\phantom{\\verb!x!}\\verb|('p',|\\phantom{\\verb!x!}\\verb|'$p$'),|\\phantom{\\verb!x!}\\verb|('q',|\\phantom{\\verb!x!}\\verb|'$q$'),|\\phantom{\\verb!x!}\\verb|('r',|\\phantom{\\verb!x!}\\verb|'$r$')])|</script></html>"
      ],
      "text/plain": [
       "OrderedDict([('chi', '$\\\\chi'), ('phi', '$\\\\phi$'), ('beta', '$\\\\beta$'), ('rho', '$\\\\rho$'), ('delta', '$\\\\delta$'), ('gamma', '$\\\\gamma$'), ('alpha', '$\\\\alpha$'), ('mu', '$\\\\mu$'), ('p', '$p$'), ('q', '$q$'), ('r', '$r$')])"
      ]
     },
     "execution_count": 11,
     "metadata": {},
     "output_type": "execute_result"
    }
   ],
   "source": [
    "my_model.parameters"
   ]
  },
  {
   "cell_type": "code",
   "execution_count": 14,
   "metadata": {},
   "outputs": [],
   "source": [
    "params = {\n",
    "'chi': .3,\n",
    "'phi': 0.012413633926076584,\n",
    "'beta': 0.27272459855759813,\n",
    "'rho': 0.2190519831830368,\n",
    "'delta': 0.04168480042146949,\n",
    "'gamma': 0.04,\n",
    "'alpha':  0.3413355572047603,\n",
    "'mu': 0.02359234606623134,\n",
    "'p': 0.7693029079871165,\n",
    "'q': 50,\n",
    "'r': 55,\n",
    "}\n",
    "inits = [.99, 0, 1e-4, 0, 0, 0, 0, 0]"
   ]
  },
  {
   "cell_type": "code",
   "execution_count": 113,
   "metadata": {},
   "outputs": [
    {
     "name": "stdout",
     "output_type": "stream",
     "text": [
      "10 loops, best of 5: 21.3 ms per loop\n"
     ]
    }
   ],
   "source": [
    "%%timeit\n",
    "# parms = dict(zip(params.keys(),param_values[3]))\n",
    "my_model(inits=inits, trange = [0,200], totpop=1, params=params)\n",
    "# max(my_model.traces['I'])"
   ]
  },
  {
   "cell_type": "code",
   "execution_count": 115,
   "metadata": {},
   "outputs": [
    {
     "data": {
      "image/png": "[encoded data removed]",
      "text/plain": [
       "<Figure size 432x288 with 1 Axes>"
      ]
     },
     "metadata": {},
     "output_type": "display_data"
    }
   ],
   "source": [
    "my_model.plot_traces()"
   ]
  },
  {
   "cell_type": "markdown",
   "metadata": {},
   "source": [
    "## Definindo a análise"
   ]
  },
  {
   "cell_type": "code",
   "execution_count": 101,
   "metadata": {},
   "outputs": [],
   "source": [
    "problem = {\n",
    "    'num_vars': 11,\n",
    "    'names': list(params.keys()),\n",
    "    'bounds': [[0,.3],[0,1.],[0.1,2],[0.2,1],[0.01,1],[0.01,1],\n",
    "              [0.01,1],[0.01,.7],[0.01,.7],[1,30],[1,12]]\n",
    "}"
   ]
  },
  {
   "cell_type": "markdown",
   "metadata": {},
   "source": [
    "## Gerando as amostras"
   ]
  },
  {
   "cell_type": "code",
   "execution_count": 116,
   "metadata": {},
   "outputs": [],
   "source": [
    "param_values = saltelli.sample(problem, 1000)"
   ]
  },
  {
   "cell_type": "code",
   "execution_count": 117,
   "metadata": {},
   "outputs": [
    {
     "data": {
      "text/html": [
       "<html><script type=\"math/tex; mode=display\">\\newcommand{\\Bold}[1]{\\mathbf{#1}}\\left(24000, 11\\right)</script></html>"
      ],
      "text/plain": [
       "(24000, 11)"
      ]
     },
     "execution_count": 117,
     "metadata": {},
     "output_type": "execute_result"
    }
   ],
   "source": [
    "param_values.shape"
   ]
  },
  {
   "cell_type": "markdown",
   "metadata": {},
   "source": [
    "## Rodando o Modelo\n",
    "Para fazer a análise de sensibilidade precisamos selecionar um aspecto da saída do model, sobre o qual desejamos estudar a variância em resposta à varância dos parâmetros. Para este caso simples, vamos escolher o valor de pico de $I(t)$."
   ]
  },
  {
   "cell_type": "code",
   "execution_count": 118,
   "metadata": {},
   "outputs": [],
   "source": [
    "def eval_model(parametros):\n",
    "    parms = dict(zip(params.keys(),parametros))\n",
    "    mod = cm.SEQIAHR()\n",
    "    mod(inits=inits, trange = [0,200], totpop=1, params=parms)\n",
    "    Y = max(mod.traces['I'])\n",
    "    return Y"
   ]
  },
  {
   "cell_type": "markdown",
   "metadata": {},
   "source": [
    "Agora, basta executar uma simulação para cada conjunto de valores de parâmetros que amostramos."
   ]
  },
  {
   "cell_type": "code",
   "execution_count": 119,
   "metadata": {},
   "outputs": [],
   "source": [
    "# Y = np.zeros([param_values.shape[0]])\n",
    "# for i, p in enumerate(param_values):\n",
    "#     Y[i] = eval_model(p)"
   ]
  },
  {
   "cell_type": "markdown",
   "metadata": {},
   "source": [
    "Para acelerar a execução dos cenários, vamos paralelizar a simulação do modelo"
   ]
  },
  {
   "cell_type": "code",
   "execution_count": 120,
   "metadata": {},
   "outputs": [],
   "source": [
    "from multiprocessing import Pool"
   ]
  },
  {
   "cell_type": "code",
   "execution_count": 121,
   "metadata": {},
   "outputs": [],
   "source": [
    "Po = Pool()\n",
    "Y = Po.map(eval_model, param_values)"
   ]
  },
  {
   "cell_type": "code",
   "execution_count": 122,
   "metadata": {},
   "outputs": [],
   "source": [
    "Po.close()"
   ]
  },
  {
   "cell_type": "code",
   "execution_count": 123,
   "metadata": {},
   "outputs": [],
   "source": [
    "Si = sobol.analyze(problem, np.array(Y), print_to_console=False)"
   ]
  },
  {
   "cell_type": "code",
   "execution_count": 124,
   "metadata": {},
   "outputs": [
    {
     "data": {
      "image/png": "[encoded data removed]",
      "text/plain": [
       "<Figure size 720x576 with 1 Axes>"
      ]
     },
     "metadata": {},
     "output_type": "display_data"
    }
   ],
   "source": [
    "def plot_sobol(si,prob, order=1):\n",
    "    Si_filter = {k:si[k] for k in ['ST','ST_conf','S1','S1_conf']}\n",
    "    Si_df = pd.DataFrame(Si_filter, index=problem['names'][:-1])\n",
    "    fig, ax = plt.subplots(1, figsize=(10,8))\n",
    "\n",
    "    indices = Si_df[['S1','ST']]\n",
    "    err = Si_df[['S1_conf','ST_conf']]\n",
    "\n",
    "    indices.plot.bar(yerr=err.values.T,ax=ax)\n",
    "plot_sobol(Si,problem)"
   ]
  },
  {
   "cell_type": "code",
   "execution_count": 103,
   "metadata": {},
   "outputs": [],
   "source": [
    "Si_filter = {k:Si[k] for k in ['ST','ST_conf','S1','S1_conf']}\n",
    "Si_df = pd.DataFrame(Si_filter, index=problem['names'][:-1])"
   ]
  },
  {
   "cell_type": "code",
   "execution_count": 104,
   "metadata": {},
   "outputs": [
    {
     "data": {
      "text/html": [
       "<html><script type=\"math/tex; mode=display\">\\newcommand{\\Bold}[1]{\\mathbf{#1}}\\begin{array}{l}\n",
       "\\phantom{\\verb!xxxxxxxxxxxxx!}\\verb|ST|\\phantom{\\verb!xxx!}\\verb|ST_conf|\\phantom{\\verb!xxxxxxxx!}\\verb|S1|\\phantom{\\verb!xxx!}\\verb|S1_conf|\\\\\n",
       "\\verb|chi|\\phantom{\\verb!xxxx!}\\verb|0.000383|\\phantom{\\verb!xx!}\\verb|0.000865|\\phantom{\\verb!x!}\\verb|-0.006220|\\phantom{\\verb!xx!}\\verb|0.012845|\\\\\n",
       "\\verb|phi|\\phantom{\\verb!xxxx!}\\verb|0.371523|\\phantom{\\verb!xx!}\\verb|0.437696|\\phantom{\\verb!xx!}\\verb|0.008237|\\phantom{\\verb!xx!}\\verb|0.165755|\\\\\n",
       "\\verb|beta|\\phantom{\\verb!xxx!}\\verb|0.129016|\\phantom{\\verb!xx!}\\verb|0.270576|\\phantom{\\verb!xx!}\\verb|0.041395|\\phantom{\\verb!xx!}\\verb|0.101191|\\\\\n",
       "\\verb|rho|\\phantom{\\verb!xxxx!}\\verb|0.000024|\\phantom{\\verb!xx!}\\verb|0.000027|\\phantom{\\verb!x!}\\verb|-0.001125|\\phantom{\\verb!xx!}\\verb|0.002360|\\\\\n",
       "\\verb|delta|\\phantom{\\verb!xx!}\\verb|0.405545|\\phantom{\\verb!xx!}\\verb|0.534001|\\phantom{\\verb!xx!}\\verb|0.097103|\\phantom{\\verb!xx!}\\verb|0.197571|\\\\\n",
       "\\verb|gamma|\\phantom{\\verb!xx!}\\verb|0.019654|\\phantom{\\verb!xx!}\\verb|0.032977|\\phantom{\\verb!xx!}\\verb|0.030440|\\phantom{\\verb!xx!}\\verb|0.047838|\\\\\n",
       "\\verb|alpha|\\phantom{\\verb!xx!}\\verb|0.039358|\\phantom{\\verb!xx!}\\verb|0.073779|\\phantom{\\verb!xx!}\\verb|0.040417|\\phantom{\\verb!xx!}\\verb|0.087603|\\\\\n",
       "\\verb|mu|\\phantom{\\verb!xxxxx!}\\verb|0.000003|\\phantom{\\verb!xx!}\\verb|0.000007|\\phantom{\\verb!x!}\\verb|-0.000017|\\phantom{\\verb!xx!}\\verb|0.000366|\\\\\n",
       "\\verb|p|\\phantom{\\verb!xxxxxx!}\\verb|0.097567|\\phantom{\\verb!xx!}\\verb|0.109621|\\phantom{\\verb!x!}\\verb|-0.021822|\\phantom{\\verb!xx!}\\verb|0.079818|\\\\\n",
       "\\verb|q|\\phantom{\\verb!xxxxxx!}\\verb|0.000595|\\phantom{\\verb!xx!}\\verb|0.000893|\\phantom{\\verb!x!}\\verb|-0.004357|\\phantom{\\verb!xx!}\\verb|0.010404|\\\\\n",
       "\\verb|r|\\phantom{\\verb!xxxxxx!}\\verb|0.000339|\\phantom{\\verb!xx!}\\verb|0.000798|\\phantom{\\verb!x!}\\verb|-0.001447|\\phantom{\\verb!xx!}\\verb|0.004896|\n",
       "\\end{array}</script></html>"
      ],
      "text/plain": [
       "             ST   ST_conf        S1   S1_conf\n",
       "chi    0.000383  0.000865 -0.006220  0.012845\n",
       "phi    0.371523  0.437696  0.008237  0.165755\n",
       "beta   0.129016  0.270576  0.041395  0.101191\n",
       "rho    0.000024  0.000027 -0.001125  0.002360\n",
       "delta  0.405545  0.534001  0.097103  0.197571\n",
       "gamma  0.019654  0.032977  0.030440  0.047838\n",
       "alpha  0.039358  0.073779  0.040417  0.087603\n",
       "mu     0.000003  0.000007 -0.000017  0.000366\n",
       "p      0.097567  0.109621 -0.021822  0.079818\n",
       "q      0.000595  0.000893 -0.004357  0.010404\n",
       "r      0.000339  0.000798 -0.001447  0.004896"
      ]
     },
     "execution_count": 104,
     "metadata": {},
     "output_type": "execute_result"
    }
   ],
   "source": [
    "Si_df"
   ]
  },
  {
   "cell_type": "code",
   "execution_count": 127,
   "metadata": {},
   "outputs": [
    {
     "data": {
      "text/html": [
       "<html><script type=\"math/tex; mode=display\">\\newcommand{\\Bold}[1]{\\mathbf{#1}}\\left(11, 11\\right)</script></html>"
      ],
      "text/plain": [
       "(11, 11)"
      ]
     },
     "execution_count": 127,
     "metadata": {},
     "output_type": "execute_result"
    }
   ],
   "source": [
    "Si['S2_conf'].shape"
   ]
  },
  {
   "cell_type": "code",
   "execution_count": null,
   "metadata": {},
   "outputs": [],
   "source": []
  }
 ],
 "metadata": {
  "kernelspec": {
   "display_name": "SageMath 9.1",
   "language": "sage",
   "name": "sagemath"
  },
  "language_info": {
   "codemirror_mode": {
    "name": "ipython",
    "version": 3
   },
   "file_extension": ".py",
   "mimetype": "text/x-python",
   "name": "python",
   "nbconvert_exporter": "python",
   "pygments_lexer": "ipython3",
   "version": "3.7.3"
  }
 },
 "nbformat": 4,
 "nbformat_minor": 2
}
