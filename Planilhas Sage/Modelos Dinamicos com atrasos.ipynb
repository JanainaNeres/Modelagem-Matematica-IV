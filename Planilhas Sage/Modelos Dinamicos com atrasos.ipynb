{
 "cells": [
  {
   "cell_type": "markdown",
   "metadata": {},
   "source": [
    "# Equações diferenciais com atrasos\n",
    "Muito fenômenos naturais apresentam atrasos na relação entre causa e efeito. Se formos estritos preceberemos que poucas relações de causa e efeito em biologia podem ser consideradas instantâneas, Por exemplo: um predador leva tempo para digerir sua presa e convertê-la em novos predadores. Sob esta ótica, os modelos baseados em EDOs que vimos até agora, são meras aproximações às dinâmicas reais. \n",
    "\n",
    "Técnicamente falando, os modelos EDO, partem do princípio que apena o conhecimento do presente e sua derivada é suficiente para determinar o estado imediatamente futuro do sistema. Equações diferencias com atrasos, incluem a dependência de outros pontos na história do sistema para a determinação dos estados futuros. Desta maneira os sistema pode ser escrito da seguinte forma:\n",
    "$$\\frac{dx}{dt} = F(t, x(t), x(t-\\tau))$$\n",
    "\n",
    "onde $\\tau$ é o parâmetro de atraso.\n",
    "\n",
    "## Equação Logística com atraso discreto\n",
    "Como nosso primeiro exemplo. vamos examinar a equação de Hutchinson (1948):\n",
    "$$\\frac{dx(t)}{dt}=r x(t)\\left[1-\\frac{x(t-\\tau)}{K}\\right]$$\n",
    "\n",
    "Modelos com atraso são usados muito menos frequentemente, devido à dificuldade na sua solução analítica. Felizmente dispomos de uma [biblioteca](https://github.com/Zulko/ddeint) em Python para sua solução numérica."
   ]
  },
  {
   "cell_type": "code",
   "execution_count": 1,
   "metadata": {},
   "outputs": [],
   "source": [
    "%display typeset\n",
    "import warnings\n",
    "warnings.filterwarnings('always')"
   ]
  },
  {
   "cell_type": "code",
   "execution_count": 2,
   "metadata": {},
   "outputs": [],
   "source": [
    "from ddeint import ddeint\n",
    "import numpy as np"
   ]
  },
  {
   "cell_type": "markdown",
   "metadata": {},
   "source": [
    "Wright demonstrou em 1955, que se $r\\tau<\\frac{37}{24}$ e $x(0)>0$, $x(t) \\rightarrow K$ quando $t\\rightarrow \\infty$. Mas se $r\\tau > \\frac{pi}{2}$, então a equação logística com atraso, apresenta uma solução periódica (ciclo limite), que oscila em torno de K.\n",
    "\n",
    "Para resolver uma equação diferencial com atrasos, precisamos definir uma função de história que retorna o comportamento do sistema no intervalo $[-\\tau,0]$, assumindo que o período da dinâmica em que estamos interessado começa em $t=0$."
   ]
  },
  {
   "cell_type": "code",
   "execution_count": 16,
   "metadata": {},
   "outputs": [
    {
     "data": {
      "application/vnd.jupyter.widget-view+json": {
       "model_id": "bb47a18fb0ad42b1abc800a356dbcb8b",
       "version_major": 2,
       "version_minor": 0
      },
      "text/plain": [
       "Interactive function <function plot_logistic at 0x7fbb448cf488> with 2 widgets\n",
       "  r: TransformFloatSlider(value…"
      ]
     },
     "metadata": {},
     "output_type": "display_data"
    }
   ],
   "source": [
    "def logdelay(y,t,*pars):\n",
    "    x=y(t)\n",
    "    r,K,tau = pars\n",
    "    xd = y(t-tau)\n",
    "    return np.array([\n",
    "        r*x*(1-(xd/K))\n",
    "    ])\n",
    "@interact\n",
    "def plot_logistic(r=slider(1,3,0.1,pi/2),tau=slider(0,2,.2,1)):\n",
    "    g = lambda t: 1 # valores de x(t) quando x pertence ao intervalo [-tau,0]\n",
    "    tsteps = np.linspace(0,50,1000)\n",
    "    show(\"r tau > pi/2? \", (r*tau)>(pi/2).n())\n",
    "    K = 1000\n",
    "    \n",
    "    res=ddeint(logdelay,g, tsteps, (r,K,tau))\n",
    "    P = list_plot(list(zip(tsteps,np.array(res))), legend_label='$x(t)$')\n",
    "    l = plot(1000, (x,0,50), legend_label='K', color='green', linestyle=':')\n",
    "    D = list_plot(list(zip(res[2:],res[:-2])), axes_labels=['$x(t)$','$x(t-2)$'])\n",
    "#     show(D)\n",
    "    show(graphics_array([(P+l,),(D,)]), figsize=[8,10])"
   ]
  },
  {
   "cell_type": "markdown",
   "metadata": {},
   "source": [
    "## Análise de Estabilidade Linear\n",
    "\n",
    "Os equilíbrios (x*) de um sistema dinâmico com atraso, de forma similar a EDOs, são pontos que satisfazem a seguinte condição: \n",
    "$$f(x^*)=0$$\n",
    "\n",
    "Para a análise da estabilidade dos equilíbrios, uma diferença é que em DDEs perturbações do sistema na vizinhaça destes equilíbrio levam a deslocamentos que são funções do tempo $\\delta x(t)$. Seja $x_{\\tau}=x(t-\\tau)$, "
   ]
  },
  {
   "cell_type": "code",
   "execution_count": null,
   "metadata": {},
   "outputs": [],
   "source": []
  },
  {
   "cell_type": "markdown",
   "metadata": {},
   "source": [
    "## Modelo predador-presa\n",
    "\n",
    "Considere o seguinte modelo de Lotka-Volterra com atrasos:\n",
    "\n",
    "\\begin{align}\n",
    "\\frac{dx}{dt} &= x(r_1-a_{11}x_{\\tau}-a_{12}y_{\\tau}) \\\\\n",
    "\\frac{dy}{dt} &= y (-r_2 +a_{21}x_{\\tau}-a_{22}y_{\\tau})\n",
    "\\end{align}\n",
    "onde $r_1$, $r_2$, $a_{11}$, $a_{12}$, $a_{21}$ e $a_{22}$ são constantes e o atraso $\\tau \\geq 0$, corresponte ao período de gestação do predador."
   ]
  },
  {
   "cell_type": "code",
   "execution_count": 19,
   "metadata": {},
   "outputs": [
    {
     "data": {
      "application/vnd.jupyter.widget-view+json": {
       "model_id": "e770e9e13f5e4dd9bce8cb8e86e813cf",
       "version_major": 2,
       "version_minor": 0
      },
      "text/plain": [
       "Interactive function <function show_sol at 0x7fbb44b66378> with 1 widget\n",
       "  tau: TransformFloatSlider(value=1.0…"
      ]
     },
     "metadata": {},
     "output_type": "display_data"
    }
   ],
   "source": [
    "def pred_presa(S,t,*pars):\n",
    "    x,y = S(t)\n",
    "    r1,r2,a11,a12,a21,a22,tau = pars\n",
    "    xd,yd = S(t-tau)\n",
    "    return np.array([\n",
    "        x*(r1-a11*xd-a12*yd),\n",
    "        y*(-r2 +a21*xd -a22*yd)\n",
    "    ])\n",
    "    \n",
    "\n",
    "\n",
    "@interact\n",
    "def show_sol(tau=slider(0,2.5,0.5,1)):\n",
    "    g = lambda t: np.array([1,1])\n",
    "    r1=1.1\n",
    "    r2=1\n",
    "    a11=1\n",
    "    a12=1\n",
    "    a21=2\n",
    "    a22=1\n",
    "    tsteps = np.linspace(0,100,1000)\n",
    "    res = ddeint(pred_presa, g, tsteps,(r1,r2,a11,a12,a21,a22,tau))\n",
    "    P = list_plot(list(zip(res[:,0],res[:,1])), plotjoined=True, axes_labels=['$x(t)$','$y(t)$'])\n",
    "    show(P);"
   ]
  },
  {
   "cell_type": "markdown",
   "metadata": {},
   "source": [
    "## Hematopoiesis\n",
    "Considere o modelo de Mackey-Glass de uma dimensão. \n",
    "$$\\frac{dx(t)}{dt}=\\frac{\\beta x(t-\\tau)}{1+x(t-\\tau)^n}-\\delta x(t)$$\n",
    "onde $x(t)$ é o número de células sanguíneas no tempo $t$, $\\tau$ é um atraso constante e $n$ uma constante. O primeiro termo da equação representa a produção atrasada de células e $delta$ a taxa de mortalidade das células."
   ]
  },
  {
   "cell_type": "code",
   "execution_count": 23,
   "metadata": {},
   "outputs": [],
   "source": [
    "import pylab as plt"
   ]
  },
  {
   "cell_type": "code",
   "execution_count": 64,
   "metadata": {},
   "outputs": [
    {
     "data": {
      "application/vnd.jupyter.widget-view+json": {
       "model_id": "dc7ad7cb475145d7a3ca1bc69e59ff88",
       "version_major": 2,
       "version_minor": 0
      },
      "text/plain": [
       "Interactive function <function show_sol at 0x7fbb3df9d7b8> with 4 widgets\n",
       "  beta: IntSlider(value=2, descripti…"
      ]
     },
     "metadata": {},
     "output_type": "display_data"
    }
   ],
   "source": [
    "def hematopoiesis(S,t,*pars):\n",
    "    x = S(t)\n",
    "    beta, n,delta, tau = pars\n",
    "    xd = S(t-tau)\n",
    "    return np.array([\n",
    "        (beta*xd)/(1+xd**n)-delta*x\n",
    "    ])\n",
    "\n",
    "@interact\n",
    "def show_sol(beta=2,n=10, tau=2,delta=0.7):\n",
    "    g = lambda t: 0.5\n",
    "    tsteps = np.linspace(0,512,4096)\n",
    "    res = ddeint(hematopoiesis, g, tsteps,(beta,n,delta,tau))\n",
    "    res = res[200:]\n",
    "    P = list_plot(list(zip(res[tau:],res[:-tau])), plotjoined=True, axes_labels=['$x(t)$',r'$x_{\\tau}$'])\n",
    "    Q = list_plot(list(zip(tsteps[-256:],res[-256:])), plotjoined=True, axes_labels=['$t$',r'$x(t)$'])\n",
    "    \n",
    "    show(graphics_array([[P],[Q]]), figsize=[8,10]);"
   ]
  },
  {
   "cell_type": "code",
   "execution_count": 66,
   "metadata": {},
   "outputs": [],
   "source": [
    "g = lambda t: 0.5\n",
    "tsteps = np.linspace(0,2048,2048)\n",
    "res = ddeint(hematopoiesis, g, tsteps,(2,10,0.7,2))"
   ]
  },
  {
   "cell_type": "code",
   "execution_count": 67,
   "metadata": {},
   "outputs": [
    {
     "data": {
      "image/png": "[encoded data removed]",
      "text/plain": [
       "<Figure size 432x288 with 1 Axes>"
      ]
     },
     "metadata": {},
     "output_type": "display_data"
    }
   ],
   "source": [
    "plt.psd(res, noverlap=128);"
   ]
  },
  {
   "cell_type": "code",
   "execution_count": null,
   "metadata": {},
   "outputs": [],
   "source": [
    "def drawbif(l,u):\n",
    "    g = lambda t: 0.5\n",
    "    tsteps = np.linspace(0,256,768)\n",
    "    \n",
    "    pts = []\n",
    "    for delta in np.linspace(l,u,50):\n",
    "        res = ddeint(hematopoiesis, g, tsteps,(2,10,delta,2))\n",
    "        res = np.array([res[0]]+[i[0] for i in res[1:]])\n",
    "        dres = np.diff(res)\n",
    "        pts += [(delta,x) for i,x in enumerate(res[-128:]) if dres[i] <=1e-15]\n",
    "    \n",
    "    show(points(pts),axes_labels=[r'$\\delta$','$x(t)$'],gridlines=True, figsize=[10,8])\n",
    "    \n",
    "\n",
    "\n",
    "\n",
    "drawbif(0,1.8)"
   ]
  },
  {
   "cell_type": "code",
   "execution_count": 52,
   "metadata": {},
   "outputs": [],
   "source": []
  },
  {
   "cell_type": "code",
   "execution_count": null,
   "metadata": {},
   "outputs": [],
   "source": []
  }
 ],
 "metadata": {
  "kernelspec": {
   "display_name": "SageMath 9.1",
   "language": "sage",
   "name": "sagemath"
  },
  "language_info": {
   "codemirror_mode": {
    "name": "ipython",
    "version": 3
   },
   "file_extension": ".py",
   "mimetype": "text/x-python",
   "name": "python",
   "nbconvert_exporter": "python",
   "pygments_lexer": "ipython3",
   "version": "3.7.3"
  }
 },
 "nbformat": 4,
 "nbformat_minor": 2
}
