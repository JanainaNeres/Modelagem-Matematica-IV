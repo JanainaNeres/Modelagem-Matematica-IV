{
 "cells": [
  {
   "cell_type": "code",
   "execution_count": 1,
   "metadata": {},
   "outputs": [],
   "source": [
    "%display typeset"
   ]
  },
  {
   "cell_type": "markdown",
   "metadata": {},
   "source": [
    "# Usando Modelos Populacionais Logísticos para Epidemias\n",
    "Nesta aula vamos conhecer o modelo logístico de Richards, e estuda sua aplicabilidade no estudo de epidemias.\n",
    "\n",
    "O modelo de Richards se baseia em um modelo proposto por Verhulst em 1838.\n",
    "\n",
    "$$\\frac{dN(t)}{dt}=r N(t)\\left[1-\\frac{N(t)}{K}\\right]$$\n",
    "\n",
    "Richards generalizou este modelo em 1959, adicionando o parâmetro $a$ permitindo o desvio da dependência estrita da densidade."
   ]
  },
  {
   "cell_type": "code",
   "execution_count": 8,
   "metadata": {},
   "outputs": [
    {
     "data": {
      "text/html": [
       "<html><script type=\"math/tex; mode=display\">\\newcommand{\\Bold}[1]{\\mathbf{#1}}\\frac{\\partial}{\\partial t}C\\left(t\\right) = r_{1} C\\left(-\\left(\\frac{C\\left(t\\right)}{K}\\right)^{a} + 1\\right)</script></html>"
      ],
      "text/latex": [
       "$$\\newcommand{\\Bold}[1]{\\mathbf{#1}}\\frac{\\partial}{\\partial t}C\\left(t\\right) = r_{1} C\\left(-\\left(\\frac{C\\left(t\\right)}{K}\\right)^{a} + 1\\right)$$"
      ],
      "text/plain": [
       "diff(C(t), t) == r1*C(-(C(t)/K)^a + 1)"
      ]
     },
     "execution_count": 8,
     "metadata": {},
     "output_type": "execute_result"
    }
   ],
   "source": [
    "var('C r1 K a t')\n",
    "C = function('C')(t)\n",
    "dcdt = diff(C,t)==r1*C(1-(C/K)^a)\n",
    "dcdt"
   ]
  },
  {
   "cell_type": "code",
   "execution_count": 9,
   "metadata": {},
   "outputs": [
    {
     "data": {
      "text/html": [
       "<html><script type=\"math/tex; mode=display\">\\newcommand{\\Bold}[1]{\\mathbf{#1}}\\frac{\\int \\frac{\\frac{\\partial}{\\partial t}C\\left(t\\right)}{C\\left(-\\left(\\frac{C\\left(t\\right)}{K}\\right)^{a} + 1\\right)}\\,{d t}}{r_{1}} = C + t</script></html>"
      ],
      "text/latex": [
       "$$\\newcommand{\\Bold}[1]{\\mathbf{#1}}\\frac{\\int \\frac{\\frac{\\partial}{\\partial t}C\\left(t\\right)}{C\\left(-\\left(\\frac{C\\left(t\\right)}{K}\\right)^{a} + 1\\right)}\\,{d t}}{r_{1}} = C + t$$"
      ],
      "text/plain": [
       "integrate(1/C(-(C(t)/K)^a + 1), C(t))/r1 == _C + t"
      ]
     },
     "execution_count": 9,
     "metadata": {},
     "output_type": "execute_result"
    }
   ],
   "source": [
    "desolve(dcdt, C, ivar=t)"
   ]
  },
  {
   "cell_type": "markdown",
   "metadata": {},
   "source": [
    "O modelo de Richards admite uma solução explícita:\n",
    "\n",
    "$$C(t)=K\\left[1+a e^{-a r1(t-t_c)}\\right]^{-1/a},$$\n",
    "\n",
    "onde $t_c$ é o ponto no tempo em que a segunda derivada de $C(t)$ se torna 0, ou seja, quando $C(t)=K(1+a)^{-1/a}$. Seja $r=a r1$, então a equação acima se torna:\n",
    "$$C(t)=K\\left[1+a e^{-r(t-t_c)}\\right]^{-1/a}.$$\n",
    "\n",
    "## Relação com o modelo SIR\n",
    "Seja o modelo SIR,\n",
    "$$\n",
    "\\frac{dS}{dt} = -\\beta S I/N \\label{dsdt}\n",
    "$$\n",
    "$$\\frac{dI}{dt} = \\beta S I/N -\\gamma I$$\n",
    "$$\\frac{dR}{dt} = \\gamma I$$\n",
    "\n",
    "Onde podemos considerar que $N=S+I$. A partir das equações acima temos que\n",
    "\n",
    "$$\\frac{d(S+I)}{ds}=\\frac{\\gamma (S+I)}{\\beta S}$$\n",
    "\n",
    "cuja solução é:\n",
    "\n",
    "$$S(t)+i(t) = cS(t)^{\\gamma/\\beta} \\label{eq10}$$\n",
    "\n",
    "onde\n",
    "\n",
    "$$c:=[S(0)+I(0)]S(0)^{\\gamma/\\beta}$$\n",
    "\n",
    "combinando (\\ref{dsdt}) e (\\ref{eq10}) obtemos:\n",
    "\n",
    "$$\\frac{dS}{dt}=-\\beta S[1-(S/L)^\\alpha] \\label{eq12}$$\n",
    "\n",
    "onde $\\alpha:= 1-\\gamma/\\beta$ e $L:=c^{1/(1-\\gamma/\\beta)}$.\n",
    "\n",
    "Como a equação (\\ref{eq12}) tem a mesma forma que a equação (\\ref{dsdt}), pode ser resolvida como:\n",
    "\n",
    "$$S(t)=L[1+\\alpha e^{b(t-t_j)}]^{-1/\\alpha}$$\n",
    "\n",
    "onde $b=\\alpha\\beta$ e $t_j$ o tempo finito em que a segunda derivada de $S(t)$ é $0$.\n",
    "\n",
    "Como estamos interessados no numero acumulado de de casos, podemos definir:\n",
    "\n",
    "\\begin{align}\n",
    "J(t) :=& I(t)+R(t)\\nonumber\\\\\n",
    "=& N-S(t)\\nonumber\\\\\n",
    "=& N-L[1+\\alpha e^{b(t-t_j)}]^{-1/\\alpha}\n",
    "\\end{align}\n",
    "\n",
    "Sendo $N=S(0)+I(0)$ então $N \\approx L$. Como $I(0)/S(0)\\rightarrow 0,\n",
    "\n",
    "$$J(t)\\approx L-L[1+\\alpha e^{b(t-t_j)}]^{-1/\\alpha}.$$\n",
    "\n",
    "Esta última equação nos dá uma forma eficiente de mapear uma curva de casos acumulados ao modelo SIR sem utilizar equações diferenciais.\n",
    "\n",
    "Na prática podemos igualar $L$ ao tamanho final da epidemia, e $t_j$ ao ponto de inflexão da curva. Temos ainda que $\\alpha=1-1/{\\cal R}_0$, e $b=\\beta -\\gamma$ a taxa de geração de infeções.\n",
    "\n",
    "## Ajustando o modelo de Richards a Dados"
   ]
  },
  {
   "cell_type": "code",
   "execution_count": null,
   "metadata": {},
   "outputs": [],
   "source": []
  },
  {
   "cell_type": "code",
   "execution_count": null,
   "metadata": {},
   "outputs": [],
   "source": []
  }
 ],
 "metadata": {
  "kernelspec": {
   "display_name": "SageMath 9.3",
   "language": "sage",
   "name": "sagemath"
  },
  "language_info": {
   "codemirror_mode": {
    "name": "ipython",
    "version": 3
   },
   "file_extension": ".py",
   "mimetype": "text/x-python",
   "name": "python",
   "nbconvert_exporter": "python",
   "pygments_lexer": "ipython3",
   "version": "3.9.2"
  },
  "latex_envs": {
   "LaTeX_envs_menu_present": true,
   "autoclose": false,
   "autocomplete": true,
   "bibliofile": "biblio.bib",
   "cite_by": "apalike",
   "current_citInitial": 1,
   "eqLabelWithNumbers": true,
   "eqNumInitial": 1,
   "hotkeys": {
    "equation": "Ctrl-E",
    "itemize": "Ctrl-I"
   },
   "labels_anchors": false,
   "latex_user_defs": false,
   "report_style_numbering": false,
   "user_envs_cfg": false
  },
  "toc": {
   "base_numbering": 1,
   "nav_menu": {},
   "number_sections": true,
   "sideBar": true,
   "skip_h1_title": false,
   "title_cell": "Table of Contents",
   "title_sidebar": "Contents",
   "toc_cell": false,
   "toc_position": {},
   "toc_section_display": true,
   "toc_window_display": false
  }
 },
 "nbformat": 4,
 "nbformat_minor": 4
}
