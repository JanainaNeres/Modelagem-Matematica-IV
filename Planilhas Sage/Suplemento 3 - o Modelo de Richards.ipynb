{
 "cells": [
  {
   "cell_type": "code",
   "execution_count": 1,
   "metadata": {
    "ExecuteTime": {
     "end_time": "2021-08-31T16:28:35.316574Z",
     "start_time": "2021-08-31T16:28:35.300597Z"
    }
   },
   "outputs": [],
   "source": [
    "%display typeset"
   ]
  },
  {
   "cell_type": "markdown",
   "metadata": {},
   "source": [
    "# Usando Modelos Populacionais Logísticos para Epidemias\n",
    "Nesta aula vamos conhecer o modelo logístico de Richards, e estuda sua aplicabilidade no estudo de epidemias. Este notebook se baseia [neste artigo](https://userweb.ucs.louisiana.edu/~xxw6637/papers/JTB2012.pdf)\n",
    "\n",
    "O modelo de Richards se baseia em um modelo proposto por Verhulst em 1838.\n",
    "\n",
    "$$\\frac{dN(t)}{dt}=r N(t)\\left[1-\\frac{N(t)}{K}\\right]$$\n",
    "\n",
    "Richards generalizou este modelo em 1959, adicionando o parâmetro $a$ permitindo o desvio da dependência estrita da densidade."
   ]
  },
  {
   "cell_type": "code",
   "execution_count": 6,
   "metadata": {
    "ExecuteTime": {
     "end_time": "2021-08-30T12:09:51.582016Z",
     "start_time": "2021-08-30T12:09:51.571761Z"
    }
   },
   "outputs": [
    {
     "data": {
      "text/html": [
       "<html><script type=\"math/tex; mode=display\">\\newcommand{\\Bold}[1]{\\mathbf{#1}}\\frac{\\partial}{\\partial t}C\\left(t\\right) = r_{1} C\\left(-\\left(\\frac{C\\left(t\\right)}{K}\\right)^{a} + 1\\right)</script></html>"
      ],
      "text/latex": [
       "$$\\newcommand{\\Bold}[1]{\\mathbf{#1}}\\frac{\\partial}{\\partial t}C\\left(t\\right) = r_{1} C\\left(-\\left(\\frac{C\\left(t\\right)}{K}\\right)^{a} + 1\\right)$$"
      ],
      "text/plain": [
       "diff(C(t), t) == r1*C(-(C(t)/K)^a + 1)"
      ]
     },
     "execution_count": 6,
     "metadata": {},
     "output_type": "execute_result"
    }
   ],
   "source": [
    "var('C r1 K a t')\n",
    "C = function('C')(t)\n",
    "dcdt = diff(C,t)==r1*C(1-(C/K)^a)\n",
    "dcdt"
   ]
  },
  {
   "cell_type": "code",
   "execution_count": 12,
   "metadata": {
    "ExecuteTime": {
     "end_time": "2021-08-30T12:12:03.274132Z",
     "start_time": "2021-08-30T12:12:03.097801Z"
    }
   },
   "outputs": [
    {
     "data": {
      "text/html": [
       "<html><script type=\"math/tex; mode=display\">\\newcommand{\\Bold}[1]{\\mathbf{#1}}\\frac{\\int \\frac{\\frac{\\partial}{\\partial t}C\\left(t\\right)}{C\\left(-\\left(\\frac{C\\left(t\\right)}{K}\\right)^{a} + 1\\right)}\\,{d t}}{r_{1}} = C + t</script></html>"
      ],
      "text/latex": [
       "$$\\newcommand{\\Bold}[1]{\\mathbf{#1}}\\frac{\\int \\frac{\\frac{\\partial}{\\partial t}C\\left(t\\right)}{C\\left(-\\left(\\frac{C\\left(t\\right)}{K}\\right)^{a} + 1\\right)}\\,{d t}}{r_{1}} = C + t$$"
      ],
      "text/plain": [
       "integrate(1/C(-(C(t)/K)^a + 1), C(t))/r1 == _C + t"
      ]
     },
     "execution_count": 12,
     "metadata": {},
     "output_type": "execute_result"
    }
   ],
   "source": [
    "desolve(dcdt, C, ivar=t)"
   ]
  },
  {
   "cell_type": "markdown",
   "metadata": {},
   "source": [
    "O modelo de Richards admite uma solução explícita:\n",
    "\n",
    "$$C(t)=K\\left[1+a e^{-a r1(t-t_c)}\\right]^{-1/a},$$\n",
    "\n",
    "onde $t_c$ é o ponto no tempo em que a segunda derivada de $C(t)$ se torna 0, ou seja, quando $C(t)=K(1+a)^{-1/a}$. Seja $r=a r1$, então a equação acima se torna:\n",
    "$$C(t)=K\\left[1+a e^{-r(t-t_c)}\\right]^{-1/a}.$$\n",
    "\n",
    "## Relação com o modelo SIR\n",
    "Seja o modelo SIR,\n",
    "$$\n",
    "\\frac{dS}{dt} = -\\beta S I/N \\label{dsdt}\n",
    "$$\n",
    "$$\\frac{dI}{dt} = \\beta S I/N -\\gamma I$$\n",
    "$$\\frac{dR}{dt} = \\gamma I$$\n",
    "\n",
    "Onde podemos considerar que $N=S+I$. A partir das equações acima temos que\n",
    "\n",
    "$$\\frac{d(S+I)}{ds}=\\frac{\\gamma (S+I)}{\\beta S}$$\n",
    "\n",
    "cuja solução é:\n",
    "\n",
    "$$S(t)+I(t) = cS(t)^{\\gamma/\\beta} \\label{eq10}$$\n",
    "\n",
    "onde\n",
    "\n",
    "$$c:=[S(0)+I(0)]S(0)^{\\gamma/\\beta}$$\n",
    "\n",
    "combinando (\\ref{dsdt}) e (\\ref{eq10}) obtemos:\n",
    "\n",
    "$$\\frac{dS}{dt}=-\\beta S[1-(S/L)^\\alpha] \\label{eq12}$$\n",
    "\n",
    "onde $\\alpha:= 1-\\gamma/\\beta$ e $L:=c^{1/(1-\\gamma/\\beta)}$.\n",
    "\n",
    "Como a equação (\\ref{eq12}) tem a mesma forma que a equação (\\ref{dsdt}), pode ser resolvida como:\n",
    "\n",
    "$$S(t)=L[1+\\alpha e^{b(t-t_j)}]^{-1/\\alpha}$$\n",
    "\n",
    "onde $b=\\alpha\\beta$ e $t_j$ o tempo finito em que a segunda derivada de $S(t)$ é $0$.\n",
    "\n",
    "Como estamos interessados no numero acumulado de de casos, podemos definir:\n",
    "\n",
    "\\begin{align}\n",
    "J(t) :=& I(t)+R(t)\\nonumber\\\\\n",
    "=& N-S(t)\\nonumber\\\\\n",
    "=& N-L[1+\\alpha e^{b(t-t_j)}]^{-1/\\alpha}\n",
    "\\end{align}\n",
    "\n",
    "Sendo $N=S(0)+I(0)$ então $N \\approx L$. Como $I(0)/S(0)\\rightarrow 0$,\n",
    "\n",
    "$$J(t)\\approx L-L[1+\\alpha e^{b(t-t_j)}]^{-1/\\alpha}.$$\n",
    "\n",
    "Esta última equação nos dá uma forma eficiente de mapear uma curva de casos acumulados ao modelo SIR sem utilizar equações diferenciais.\n",
    "\n",
    "Na prática podemos igualar $L$ ao tamanho final da epidemia, e $t_j$ ao ponto de inflexão da curva. Temos ainda que $\\alpha=1-1/{\\cal R}_0$, e $b=\\beta -\\gamma$ a taxa de geração de infeções.\n",
    "\n",
    "### Instante do pico, $t_i$\n",
    "O pico da epidemia ocorre quando $\\dot{I}(t_i)=0$ o que implica que \n",
    "$$\\frac{\\beta S(t_i)}{S(t_i)+I(t_i)}=\\gamma$$\n",
    "\n",
    "Considerando as equações (\\ref{eq10}) e $\\alpha:= 1-\\gamma/\\beta$ e $L:=c^{1/(1-\\gamma/\\beta)}$, podemos obter\n",
    "\n",
    "$$S(t_i)=L (\\beta/\\gamma)^{-1/\\alpha}$$\n",
    "\n",
    "combinando as duas equações acima temos\n",
    "\n",
    "$$I(t_i)=L{\\cal R}_0^{-{\\cal R}_0/({\\cal R}_0-1)}({\\cal R}_0-1)$$\n",
    "\n",
    "com \n",
    "\n",
    "$${\\cal R}_0=e^{b(t_i-t_j)}$$."
   ]
  },
  {
   "cell_type": "markdown",
   "metadata": {},
   "source": [
    "## Ajustando o modelo de Richards a Dados\n",
    "Agora vamos ver como o modelo de Richards se presta para representar uma epidemia com múltiplas ondas. Vamos utilizar os dados da Epidemia da COVID-19 em 2020 e 21"
   ]
  },
  {
   "cell_type": "code",
   "execution_count": 18,
   "metadata": {
    "ExecuteTime": {
     "end_time": "2021-08-31T22:16:09.589023Z",
     "start_time": "2021-08-31T22:16:09.575167Z"
    }
   },
   "outputs": [],
   "source": [
    "import pandas as pd\n",
    "import numpy as np\n",
    "from matplotlib import pyplot as plt\n",
    "%matplotlib inline"
   ]
  },
  {
   "cell_type": "code",
   "execution_count": 2,
   "metadata": {
    "ExecuteTime": {
     "end_time": "2021-08-31T16:39:21.134371Z",
     "start_time": "2021-08-31T16:39:21.100928Z"
    }
   },
   "outputs": [
    {
     "data": {
      "text/html": [
       "<div>\n",
       "<style scoped>\n",
       "    .dataframe tbody tr th:only-of-type {\n",
       "        vertical-align: middle;\n",
       "    }\n",
       "\n",
       "    .dataframe tbody tr th {\n",
       "        vertical-align: top;\n",
       "    }\n",
       "\n",
       "    .dataframe thead th {\n",
       "        text-align: right;\n",
       "    }\n",
       "</style>\n",
       "<table border=\"1\" class=\"dataframe\">\n",
       "  <thead>\n",
       "    <tr style=\"text-align: right;\">\n",
       "      <th></th>\n",
       "      <th>total_cases</th>\n",
       "      <th>new_cases</th>\n",
       "      <th>location</th>\n",
       "      <th>total_deaths</th>\n",
       "      <th>new_deaths</th>\n",
       "      <th>total_vaccinations</th>\n",
       "      <th>new_vaccinations</th>\n",
       "      <th>stringency_index</th>\n",
       "      <th>population</th>\n",
       "    </tr>\n",
       "    <tr>\n",
       "      <th>date</th>\n",
       "      <th></th>\n",
       "      <th></th>\n",
       "      <th></th>\n",
       "      <th></th>\n",
       "      <th></th>\n",
       "      <th></th>\n",
       "      <th></th>\n",
       "      <th></th>\n",
       "      <th></th>\n",
       "    </tr>\n",
       "  </thead>\n",
       "  <tbody>\n",
       "    <tr>\n",
       "      <th>2020-01-31</th>\n",
       "      <td>2</td>\n",
       "      <td>2</td>\n",
       "      <td>United Kingdom</td>\n",
       "      <td>NaN</td>\n",
       "      <td>NaN</td>\n",
       "      <td>NaN</td>\n",
       "      <td>NaN</td>\n",
       "      <td>8.33</td>\n",
       "      <td>68207114</td>\n",
       "    </tr>\n",
       "    <tr>\n",
       "      <th>2020-02-01</th>\n",
       "      <td>2</td>\n",
       "      <td>0</td>\n",
       "      <td>United Kingdom</td>\n",
       "      <td>NaN</td>\n",
       "      <td>NaN</td>\n",
       "      <td>NaN</td>\n",
       "      <td>NaN</td>\n",
       "      <td>8.33</td>\n",
       "      <td>68207114</td>\n",
       "    </tr>\n",
       "    <tr>\n",
       "      <th>2020-02-02</th>\n",
       "      <td>2</td>\n",
       "      <td>0</td>\n",
       "      <td>United Kingdom</td>\n",
       "      <td>NaN</td>\n",
       "      <td>NaN</td>\n",
       "      <td>NaN</td>\n",
       "      <td>NaN</td>\n",
       "      <td>11.11</td>\n",
       "      <td>68207114</td>\n",
       "    </tr>\n",
       "    <tr>\n",
       "      <th>2020-02-03</th>\n",
       "      <td>8</td>\n",
       "      <td>6</td>\n",
       "      <td>United Kingdom</td>\n",
       "      <td>NaN</td>\n",
       "      <td>NaN</td>\n",
       "      <td>NaN</td>\n",
       "      <td>NaN</td>\n",
       "      <td>11.11</td>\n",
       "      <td>68207114</td>\n",
       "    </tr>\n",
       "    <tr>\n",
       "      <th>2020-02-04</th>\n",
       "      <td>8</td>\n",
       "      <td>0</td>\n",
       "      <td>United Kingdom</td>\n",
       "      <td>NaN</td>\n",
       "      <td>NaN</td>\n",
       "      <td>NaN</td>\n",
       "      <td>NaN</td>\n",
       "      <td>11.11</td>\n",
       "      <td>68207114</td>\n",
       "    </tr>\n",
       "    <tr>\n",
       "      <th>...</th>\n",
       "      <td>...</td>\n",
       "      <td>...</td>\n",
       "      <td>...</td>\n",
       "      <td>...</td>\n",
       "      <td>...</td>\n",
       "      <td>...</td>\n",
       "      <td>...</td>\n",
       "      <td>...</td>\n",
       "      <td>...</td>\n",
       "    </tr>\n",
       "    <tr>\n",
       "      <th>2021-08-24</th>\n",
       "      <td>6586181</td>\n",
       "      <td>30762</td>\n",
       "      <td>United Kingdom</td>\n",
       "      <td>132174.0</td>\n",
       "      <td>174.0</td>\n",
       "      <td>89865264.0</td>\n",
       "      <td>186086.0</td>\n",
       "      <td>43.98</td>\n",
       "      <td>68207114</td>\n",
       "    </tr>\n",
       "    <tr>\n",
       "      <th>2021-08-25</th>\n",
       "      <td>6621799</td>\n",
       "      <td>35618</td>\n",
       "      <td>United Kingdom</td>\n",
       "      <td>132323.0</td>\n",
       "      <td>149.0</td>\n",
       "      <td>90095045.0</td>\n",
       "      <td>229781.0</td>\n",
       "      <td>43.98</td>\n",
       "      <td>68207114</td>\n",
       "    </tr>\n",
       "    <tr>\n",
       "      <th>2021-08-26</th>\n",
       "      <td>6659916</td>\n",
       "      <td>38117</td>\n",
       "      <td>United Kingdom</td>\n",
       "      <td>132465.0</td>\n",
       "      <td>142.0</td>\n",
       "      <td>90295121.0</td>\n",
       "      <td>200076.0</td>\n",
       "      <td>43.98</td>\n",
       "      <td>68207114</td>\n",
       "    </tr>\n",
       "    <tr>\n",
       "      <th>2021-08-27</th>\n",
       "      <td>6697770</td>\n",
       "      <td>37854</td>\n",
       "      <td>United Kingdom</td>\n",
       "      <td>132566.0</td>\n",
       "      <td>101.0</td>\n",
       "      <td>90466529.0</td>\n",
       "      <td>171408.0</td>\n",
       "      <td>43.98</td>\n",
       "      <td>68207114</td>\n",
       "    </tr>\n",
       "    <tr>\n",
       "      <th>2021-08-28</th>\n",
       "      <td>6729912</td>\n",
       "      <td>32142</td>\n",
       "      <td>United Kingdom</td>\n",
       "      <td>132699.0</td>\n",
       "      <td>133.0</td>\n",
       "      <td>NaN</td>\n",
       "      <td>NaN</td>\n",
       "      <td>NaN</td>\n",
       "      <td>68207114</td>\n",
       "    </tr>\n",
       "  </tbody>\n",
       "</table>\n",
       "<p>576 rows × 9 columns</p>\n",
       "</div>"
      ],
      "text/plain": [
       "            total_cases  new_cases        location  total_deaths  new_deaths  \\\n",
       "date                                                                           \n",
       "2020-01-31            2          2  United Kingdom           NaN         NaN   \n",
       "2020-02-01            2          0  United Kingdom           NaN         NaN   \n",
       "2020-02-02            2          0  United Kingdom           NaN         NaN   \n",
       "2020-02-03            8          6  United Kingdom           NaN         NaN   \n",
       "2020-02-04            8          0  United Kingdom           NaN         NaN   \n",
       "...                 ...        ...             ...           ...         ...   \n",
       "2021-08-24      6586181      30762  United Kingdom      132174.0       174.0   \n",
       "2021-08-25      6621799      35618  United Kingdom      132323.0       149.0   \n",
       "2021-08-26      6659916      38117  United Kingdom      132465.0       142.0   \n",
       "2021-08-27      6697770      37854  United Kingdom      132566.0       101.0   \n",
       "2021-08-28      6729912      32142  United Kingdom      132699.0       133.0   \n",
       "\n",
       "            total_vaccinations  new_vaccinations  stringency_index  population  \n",
       "date                                                                            \n",
       "2020-01-31                 NaN               NaN              8.33    68207114  \n",
       "2020-02-01                 NaN               NaN              8.33    68207114  \n",
       "2020-02-02                 NaN               NaN             11.11    68207114  \n",
       "2020-02-03                 NaN               NaN             11.11    68207114  \n",
       "2020-02-04                 NaN               NaN             11.11    68207114  \n",
       "...                        ...               ...               ...         ...  \n",
       "2021-08-24          89865264.0          186086.0             43.98    68207114  \n",
       "2021-08-25          90095045.0          229781.0             43.98    68207114  \n",
       "2021-08-26          90295121.0          200076.0             43.98    68207114  \n",
       "2021-08-27          90466529.0          171408.0             43.98    68207114  \n",
       "2021-08-28                 NaN               NaN               NaN    68207114  \n",
       "\n",
       "[576 rows x 9 columns]"
      ]
     },
     "execution_count": 2,
     "metadata": {},
     "output_type": "execute_result"
    }
   ],
   "source": [
    "ukd = pd.read_csv('UK_covid.csv')\n",
    "ukd['date'] = pd.to_datetime(ukd.date)\n",
    "ukd.set_index('date', inplace=True)\n",
    "ukd"
   ]
  },
  {
   "cell_type": "code",
   "execution_count": 11,
   "metadata": {
    "ExecuteTime": {
     "end_time": "2021-08-31T16:51:29.358024Z",
     "start_time": "2021-08-31T16:51:29.073625Z"
    }
   },
   "outputs": [
    {
     "data": {
      "image/png": "[encoded data removed]",
      "text/plain": [
       "<Figure size 1080x432 with 2 Axes>"
      ]
     },
     "metadata": {
      "needs_background": "light"
     },
     "output_type": "display_data"
    }
   ],
   "source": [
    "fig , [a1,a2] = plt.subplots(2,1, figsize=[15,6], sharex=True)\n",
    "ukd.total_cases.plot(ax=a1);\n",
    "ukd.new_cases.plot(ax=a2);"
   ]
  },
  {
   "cell_type": "code",
   "execution_count": 36,
   "metadata": {
    "ExecuteTime": {
     "end_time": "2021-08-31T22:53:56.405590Z",
     "start_time": "2021-08-31T22:53:56.050035Z"
    }
   },
   "outputs": [
    {
     "data": {
      "application/vnd.jupyter.widget-view+json": {
       "model_id": "2083fe183edf437ba71865abeb57eaf3",
       "version_major": 2,
       "version_minor": 0
      },
      "text/plain": [
       "Interactive function <function plot_richards at 0x7f046fa235e0> with 15 widgets\n",
       "  w1: TransformIntRangeSlider(…"
      ]
     },
     "metadata": {},
     "output_type": "display_data"
    }
   ],
   "source": [
    "def rich(L,a,b,t,tj):\n",
    "    j=L-L*(1+a*np.exp(b*(t-tj)))**(-1/a)\n",
    "    return j\n",
    "df = ukd.reset_index()\n",
    "@interact\n",
    "def plot_richards(w1=range_slider(1,180,step_size=1,default=(1,160)), \n",
    "                  tp1=(86,(10,150)),L1=(.3e6,(.1e6,1.5e6)),a1=(0.1,(0.1,1)),b1=(0.2,(0.001,.2,.01)),\n",
    "                  w2=range_slider(180,350,step_size=1,default=(210,300)), \n",
    "                  tp2=(277,(230,350)),L2=(1e6,(.9e6,3.5e6)),a2=(0.1,(0.1,1)),b2=(0.2,(0.001,.2,.01)),\n",
    "                  w3=range_slider(220,400,step_size=1,default=(300,400)), \n",
    "                  tp3=(329,(220,400)),L3=(2e6,(1e6,4.5e6)),a3=(0.1,(0.1,1)),b3=(0.2,(0.001,.2,.01)),\n",
    "                 ):\n",
    "    fig,ax = plt.subplots(1,1, figsize=(15,8))\n",
    "    df.total_cases.plot(ax=ax, label='Total cases',style='+')\n",
    "    plt.plot(range(w1[0],w1[1]), [rich(L1,a1,b1,t,tp1) for t in range(w1[0],w1[1])], label='onda 1')\n",
    "    plt.plot(range(w2[0],w2[1]), [L1+rich(L2,a2,b2,t,tp2) for t in range(w2[0],w2[1])], label='onda 2')\n",
    "    plt.plot(range(w3[0],w3[1]), [L2+rich(L3,a3,b3,t,tp3) for t in range(w3[0],w3[1])], label='onda 3')\n",
    "    plt.grid()\n",
    "    plt.legend()"
   ]
  },
  {
   "cell_type": "markdown",
   "metadata": {},
   "source": [
    "## Encontrando os Parâmetros por otimização"
   ]
  },
  {
   "cell_type": "code",
   "execution_count": 37,
   "metadata": {
    "ExecuteTime": {
     "end_time": "2021-09-01T12:09:57.464266Z",
     "start_time": "2021-09-01T12:09:56.584737Z"
    }
   },
   "outputs": [],
   "source": [
    "import sherpa"
   ]
  },
  {
   "cell_type": "code",
   "execution_count": 68,
   "metadata": {
    "ExecuteTime": {
     "end_time": "2021-09-01T14:03:09.081814Z",
     "start_time": "2021-09-01T14:03:05.163633Z"
    }
   },
   "outputs": [
    {
     "name": "stdout",
     "output_type": "stream",
     "text": [
      "Requirement already satisfied: gpyopt in /home/fccoelho/Downloads/SageMath/local/lib/python3.9/site-packages (1.2.6)\n",
      "Requirement already satisfied: numpy>=1.7 in /home/fccoelho/Downloads/SageMath/local/lib/python3.9/site-packages (from gpyopt) (1.19.5)\n",
      "Requirement already satisfied: scipy>=0.16 in /home/fccoelho/Downloads/SageMath/local/lib/python3.9/site-packages (from gpyopt) (1.5.4)\n",
      "Requirement already satisfied: GPy>=1.8 in /home/fccoelho/Downloads/SageMath/local/lib/python3.9/site-packages (from gpyopt) (1.10.0)\n",
      "Requirement already satisfied: cython>=0.29 in /home/fccoelho/Downloads/SageMath/local/lib/python3.9/site-packages (from GPy>=1.8->gpyopt) (0.29.21)\n",
      "Requirement already satisfied: paramz>=0.9.0 in /home/fccoelho/Downloads/SageMath/local/lib/python3.9/site-packages (from GPy>=1.8->gpyopt) (0.9.5)\n",
      "Requirement already satisfied: six in /home/fccoelho/Downloads/SageMath/local/lib/python3.9/site-packages (from GPy>=1.8->gpyopt) (1.15.0)\n",
      "Requirement already satisfied: decorator>=4.0.10 in /home/fccoelho/Downloads/SageMath/local/lib/python3.9/site-packages (from paramz>=0.9.0->GPy>=1.8->gpyopt) (4.4.2)\n",
      "\u001b[33mWARNING: You are using pip version 21.0.1; however, version 21.2.4 is available.\n",
      "You should consider upgrading via the '/home/fccoelho/Downloads/SageMath/local/bin/python3 -m pip install --upgrade pip' command.\u001b[0m\n"
     ]
    }
   ],
   "source": [
    "!pip install gpyopt"
   ]
  },
  {
   "cell_type": "code",
   "execution_count": 46,
   "metadata": {
    "ExecuteTime": {
     "end_time": "2021-09-01T13:43:49.736948Z",
     "start_time": "2021-09-01T13:43:49.720732Z"
    }
   },
   "outputs": [],
   "source": [
    "parameters = [\n",
    "    sherpa.Discrete(name='L1', range=[.1e6,1e6]),\n",
    "    sherpa.Discrete(name='tp1', range=[10,150]),\n",
    "#     sherpa.Discrete(name='s1', range=[1,180]), #inicio da onda\n",
    "#     sherpa.Discrete(name='d1', range=[10,180]), # duração da onda \n",
    "    sherpa.Continuous(name='a1', range=[0,1]),\n",
    "    sherpa.Continuous(name='b1', range=[0,1]),\n",
    "]"
   ]
  },
  {
   "cell_type": "code",
   "execution_count": 93,
   "metadata": {
    "ExecuteTime": {
     "end_time": "2021-09-01T14:17:05.238576Z",
     "start_time": "2021-09-01T14:17:05.230472Z"
    }
   },
   "outputs": [],
   "source": [
    "# algorithm = sherpa.algorithms.RandomSearch(max_num_trials=2000)\n",
    "algorithm = sherpa.algorithms.SuccessiveHalving(max_finished_configs=500)\n",
    "study = sherpa.Study(parameters=parameters,\n",
    "                     algorithm=algorithm,\n",
    "                     lower_is_better=True,\n",
    "                     disable_dashboard=True)"
   ]
  },
  {
   "cell_type": "code",
   "execution_count": 94,
   "metadata": {
    "ExecuteTime": {
     "end_time": "2021-09-01T14:17:06.816280Z",
     "start_time": "2021-09-01T14:17:06.804213Z"
    }
   },
   "outputs": [
    {
     "data": {
      "text/plain": [
       "{'L1': 257465,\n",
       " 'tp1': 116,\n",
       " 'a1': 0.3479896982752564,\n",
       " 'b1': 0.06494139156730783,\n",
       " 'resource': 1,\n",
       " 'rung': 0,\n",
       " 'load_from': '',\n",
       " 'save_to': '1'}"
      ]
     },
     "execution_count": 94,
     "metadata": {},
     "output_type": "execute_result"
    }
   ],
   "source": [
    "trial = study.get_suggestion()\n",
    "trial.parameters"
   ]
  },
  {
   "cell_type": "code",
   "execution_count": 95,
   "metadata": {
    "ExecuteTime": {
     "end_time": "2021-09-01T14:21:20.061010Z",
     "start_time": "2021-09-01T14:17:08.111442Z"
    }
   },
   "outputs": [],
   "source": [
    "s=1\n",
    "e=160\n",
    "for trial in study:\n",
    "    L = trial.parameters['L1']\n",
    "    tp = trial.parameters['tp1']\n",
    "    a = trial.parameters['a1']\n",
    "    b = trial.parameters['b1']\n",
    "    dado = df.loc[s:e].total_cases.values\n",
    "    sig = [rich(L,a,b,t,tp) for t in range(s,e)]\n",
    "    \n",
    "    loss = sum((dado[s:e]-sig)**2)/(e-s)\n",
    "    study.add_observation(trial=trial,\n",
    "                          objective=loss,\n",
    "                          )\n",
    "    study.finalize(trial)"
   ]
  },
  {
   "cell_type": "code",
   "execution_count": 97,
   "metadata": {
    "ExecuteTime": {
     "end_time": "2021-09-01T14:26:52.048413Z",
     "start_time": "2021-09-01T14:26:52.042214Z"
    }
   },
   "outputs": [
    {
     "data": {
      "text/plain": [
       "{'Trial-ID': 5801,\n",
       " 'Iteration': 1,\n",
       " 'L1': 280608,\n",
       " 'a1': 0.298767528283268,\n",
       " 'b1': 0.056357823970169973,\n",
       " 'load_from': '',\n",
       " 'resource': 1,\n",
       " 'rung': 0,\n",
       " 'save_to': '5801',\n",
       " 'tp1': 91,\n",
       " 'Objective': 152888426.20476854}"
      ]
     },
     "execution_count": 97,
     "metadata": {},
     "output_type": "execute_result"
    }
   ],
   "source": [
    "res = study.get_best_result()\n",
    "res"
   ]
  },
  {
   "cell_type": "code",
   "execution_count": 98,
   "metadata": {
    "ExecuteTime": {
     "end_time": "2021-09-01T14:26:59.570261Z",
     "start_time": "2021-09-01T14:26:59.564723Z"
    }
   },
   "outputs": [],
   "source": [
    "sig = [rich(res['L1'],res['a1'],res['b1'],t,res['tp1']) for t in range(s,e+1)]"
   ]
  },
  {
   "cell_type": "code",
   "execution_count": 99,
   "metadata": {
    "ExecuteTime": {
     "end_time": "2021-09-01T14:27:01.992946Z",
     "start_time": "2021-09-01T14:27:01.741164Z"
    }
   },
   "outputs": [
    {
     "data": {
      "image/png": "[encoded data removed]",
      "text/plain": [
       "<Figure size 432x288 with 1 Axes>"
      ]
     },
     "metadata": {
      "needs_background": "light"
     },
     "output_type": "display_data"
    }
   ],
   "source": [
    "plt.plot(range(s,e+1),dado,label='dados')\n",
    "plt.plot(range(s,e+1),sig, label='richards')\n",
    "plt.grid()\n",
    "plt.legend();"
   ]
  },
  {
   "cell_type": "code",
   "execution_count": null,
   "metadata": {},
   "outputs": [],
   "source": []
  }
 ],
 "metadata": {
  "kernelspec": {
   "display_name": "SageMath 9.3",
   "language": "sage",
   "name": "sagemath"
  },
  "language_info": {
   "codemirror_mode": {
    "name": "ipython",
    "version": 3
   },
   "file_extension": ".py",
   "mimetype": "text/x-python",
   "name": "python",
   "nbconvert_exporter": "python",
   "pygments_lexer": "ipython3",
   "version": "3.9.2"
  },
  "latex_envs": {
   "LaTeX_envs_menu_present": true,
   "autoclose": false,
   "autocomplete": true,
   "bibliofile": "biblio.bib",
   "cite_by": "apalike",
   "current_citInitial": 1,
   "eqLabelWithNumbers": true,
   "eqNumInitial": 1,
   "hotkeys": {
    "equation": "Ctrl-E",
    "itemize": "Ctrl-I"
   },
   "labels_anchors": false,
   "latex_user_defs": false,
   "report_style_numbering": false,
   "user_envs_cfg": false
  },
  "toc": {
   "base_numbering": 1,
   "nav_menu": {},
   "number_sections": true,
   "sideBar": true,
   "skip_h1_title": false,
   "title_cell": "Table of Contents",
   "title_sidebar": "Contents",
   "toc_cell": false,
   "toc_position": {},
   "toc_section_display": true,
   "toc_window_display": false
  }
 },
 "nbformat": 4,
 "nbformat_minor": 4
}
