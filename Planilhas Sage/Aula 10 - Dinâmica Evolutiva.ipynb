{
 "cells": [
  {
   "cell_type": "markdown",
   "metadata": {},
   "source": [
    "# Introdução à Evolução\n",
    "## Seleção natural\n",
    "Seleção natural é o fenômeno relacionado com a diferença na capacidade de diferentes indivíduos de formar descendentes, ou seja, crescer. Esta diferença decorre do efeito do ambiente sobre os indivíduos, cada qual com seu grau de adaptação. Esta capacidade de reprodução também representada pela taxa de reprodução, em modelos evolutivos, Corresponde ao grau de adaptação do indívíduo ao seu ambiente e é chamada de **Fitness**.\n",
    "\n",
    "Para modelar os efeitos da seleção natural, precisamos de pelo menos dois \"tipos\" de indivíduos. Vamos chamá-los de A e B. Denotaremos o fitness de A por $a$ e o de B por $b$. Seja $x(t)$ o número de indivúduos do tipo A no tempo $t$ e $y(t)$ o número de indivíduos do tipo B no tempo $t$. Sejam ainda $x_0$ e $y_0$ os números de A e B no tempo $t=0$.\n",
    "\n",
    "Cujas soluções são:"
   ]
  },
  {
   "cell_type": "code",
   "execution_count": 1,
   "metadata": {
    "ExecuteTime": {
     "end_time": "2021-10-04T12:44:53.812522Z",
     "start_time": "2021-10-04T12:44:53.802794Z"
    }
   },
   "outputs": [],
   "source": [
    "%display typeset"
   ]
  },
  {
   "cell_type": "code",
   "execution_count": 2,
   "metadata": {
    "ExecuteTime": {
     "end_time": "2021-09-29T12:18:56.221188Z",
     "start_time": "2021-09-29T12:18:54.497055Z"
    }
   },
   "outputs": [
    {
     "data": {
      "text/html": [
       "<html><script type=\"math/tex; mode=display\">\\newcommand{\\Bold}[1]{\\mathbf{#1}}\\frac{\\partial}{\\partial t}x\\left(t\\right) = a x\\left(t\\right)</script></html>"
      ],
      "text/latex": [
       "$$\\newcommand{\\Bold}[1]{\\mathbf{#1}}\\frac{\\partial}{\\partial t}x\\left(t\\right) = a x\\left(t\\right)$$"
      ],
      "text/plain": [
       "diff(x(t), t) == a*x(t)"
      ]
     },
     "metadata": {},
     "output_type": "display_data"
    },
    {
     "data": {
      "text/html": [
       "<html><script type=\"math/tex; mode=display\">\\newcommand{\\Bold}[1]{\\mathbf{#1}}\\frac{\\partial}{\\partial t}y\\left(t\\right) = b y\\left(t\\right)</script></html>"
      ],
      "text/latex": [
       "$$\\newcommand{\\Bold}[1]{\\mathbf{#1}}\\frac{\\partial}{\\partial t}y\\left(t\\right) = b y\\left(t\\right)$$"
      ],
      "text/plain": [
       "diff(y(t), t) == b*y(t)"
      ]
     },
     "metadata": {},
     "output_type": "display_data"
    },
    {
     "data": {
      "text/html": [
       "<html><script type=\"math/tex; mode=display\">\\newcommand{\\Bold}[1]{\\mathbf{#1}}x_{0} e^{\\left(a t\\right)}</script></html>"
      ],
      "text/latex": [
       "$$\\newcommand{\\Bold}[1]{\\mathbf{#1}}x_{0} e^{\\left(a t\\right)}$$"
      ],
      "text/plain": [
       "x_0*e^(a*t)"
      ]
     },
     "metadata": {},
     "output_type": "display_data"
    },
    {
     "data": {
      "text/html": [
       "<html><script type=\"math/tex; mode=display\">\\newcommand{\\Bold}[1]{\\mathbf{#1}}y_{0} e^{\\left(b t\\right)}</script></html>"
      ],
      "text/latex": [
       "$$\\newcommand{\\Bold}[1]{\\mathbf{#1}}y_{0} e^{\\left(b t\\right)}$$"
      ],
      "text/plain": [
       "y_0*e^(b*t)"
      ]
     },
     "metadata": {},
     "output_type": "display_data"
    },
    {
     "data": {
      "text/html": [
       "<html><script type=\"math/tex; mode=display\">\\newcommand{\\Bold}[1]{\\mathbf{#1}}\\frac{\\frac{\\partial}{\\partial t}x\\left(t\\right)}{\\frac{\\partial}{\\partial t}y\\left(t\\right)} = \\frac{a x\\left(t\\right)}{b y\\left(t\\right)}</script></html>"
      ],
      "text/latex": [
       "$$\\newcommand{\\Bold}[1]{\\mathbf{#1}}\\frac{\\frac{\\partial}{\\partial t}x\\left(t\\right)}{\\frac{\\partial}{\\partial t}y\\left(t\\right)} = \\frac{a x\\left(t\\right)}{b y\\left(t\\right)}$$"
      ],
      "text/plain": [
       "diff(x(t), t)/diff(y(t), t) == a*x(t)/(b*y(t))"
      ]
     },
     "execution_count": 2,
     "metadata": {},
     "output_type": "execute_result"
    }
   ],
   "source": [
    "var(\"x x_0 y_0 a b y t\")\n",
    "x  = function('x')(t)\n",
    "y  = function('y')(t)\n",
    "xdot = diff(x,t)==a*x\n",
    "ydot = diff(y,t)==b*y\n",
    "show(xdot)\n",
    "show(ydot)\n",
    "solx = desolve(xdot,x, ics=[x_0], ivar=t)\n",
    "soly = desolve(ydot,y, ics=[y_0], ivar=t)\n",
    "show(solx.subs(_C=x_0))\n",
    "show(soly.subs(_C=y_0))\n",
    "xdot/ydot"
   ]
  },
  {
   "cell_type": "markdown",
   "metadata": {},
   "source": [
    "Seja $t=τ$ o tempo até que a população A dobre de tamanho, é fácil encontrar que $τ=log_2 /a$. De maneira similar, B leva $log_2 /b$ para dobrar de tamanho."
   ]
  },
  {
   "cell_type": "code",
   "execution_count": 3,
   "metadata": {
    "ExecuteTime": {
     "end_time": "2021-09-29T12:42:02.388570Z",
     "start_time": "2021-09-29T12:42:02.373923Z"
    }
   },
   "outputs": [
    {
     "data": {
      "text/html": [
       "<html><script type=\"math/tex; mode=display\">\\newcommand{\\Bold}[1]{\\mathbf{#1}}\\left[\\tau = \\frac{\\log\\left(2\\right)}{a}\\right]</script></html>"
      ],
      "text/latex": [
       "$$\\newcommand{\\Bold}[1]{\\mathbf{#1}}\\left[\\tau = \\frac{\\log\\left(2\\right)}{a}\\right]$$"
      ],
      "text/plain": [
       "[tau == log(2)/a]"
      ]
     },
     "execution_count": 3,
     "metadata": {},
     "output_type": "execute_result"
    }
   ],
   "source": [
    "var('tau')\n",
    "f = x_0*exp(a*tau)==2*x_0\n",
    "solve(f,tau)"
   ]
  },
  {
   "cell_type": "markdown",
   "metadata": {},
   "source": [
    "Seja a razão entre as duas populações: $ρ(t)=x(t)/y(t)$. Logo temos a seguinte equação diferencial\n",
    "\n",
    "$$\\dot{ρ}=\\frac{\\dot{x}y−x\\dot{y}}{y^2}=(a−b)ρ,$$\n",
    "onde $\\dot{\\rho}=\\frac{d\\rho}{dt}$. Abaixo temos a derivação de $\\dot{ρ}$ usando o sage:"
   ]
  },
  {
   "cell_type": "code",
   "execution_count": 4,
   "metadata": {
    "ExecuteTime": {
     "end_time": "2021-09-29T12:44:06.805958Z",
     "start_time": "2021-09-29T12:44:06.703634Z"
    }
   },
   "outputs": [
    {
     "data": {
      "text/html": [
       "<html><script type=\"math/tex; mode=display\">\\newcommand{\\Bold}[1]{\\mathbf{#1}}\\frac{\\partial}{\\partial t}\\rho\\left(t\\right) = \\frac{y\\left(t\\right) \\frac{\\partial}{\\partial t}x\\left(t\\right) - x\\left(t\\right) \\frac{\\partial}{\\partial t}y\\left(t\\right)}{y\\left(t\\right)^{2}}</script></html>"
      ],
      "text/latex": [
       "$$\\newcommand{\\Bold}[1]{\\mathbf{#1}}\\frac{\\partial}{\\partial t}\\rho\\left(t\\right) = \\frac{y\\left(t\\right) \\frac{\\partial}{\\partial t}x\\left(t\\right) - x\\left(t\\right) \\frac{\\partial}{\\partial t}y\\left(t\\right)}{y\\left(t\\right)^{2}}$$"
      ],
      "text/plain": [
       "diff(rho(t), t) == (y(t)*diff(x(t), t) - x(t)*diff(y(t), t))/y(t)^2"
      ]
     },
     "execution_count": 4,
     "metadata": {},
     "output_type": "execute_result"
    }
   ],
   "source": [
    "var('rho x y t')\n",
    "x = function('x')(t)\n",
    "y = function('y')(t)\n",
    "rho = function('rho')(t) == x/y\n",
    "drho = diff(rho,t)\n",
    "drho.simplify_full()"
   ]
  },
  {
   "cell_type": "markdown",
   "metadata": {},
   "source": [
    "cuja solução é $ρ(t)=ρ_0e^{(a−b)t}$. Se $a>b,$ $ρ$ tende a infinito, em cujo caso A vencerá a competição com B, e se $a<b$, $ρ$ tenderá a zero, dando a vantagem a B.\n",
    "\n",
    "Agora imaginemos o caso em a população total é constante, por exemplo em decorrência da existência de uma capacidade de suporte ambiental. Neste caso, para simplificar vamos considera que tanto $x(t)$ quanto $y(t)$ representam a abundância relativa de seus tipos respectivos, ou como também poderíamos chamar, a sua frequência, logo $x+y=1$. Temos então o seguinte sistema de equações:\n",
    "\\begin{align}\n",
    "\\dot{x}&=(a−ϕ)x\\\\\n",
    "\\dot{y}&=(b−ϕ)y\n",
    "\\end{align}\n",
    "Sendo $ϕ$ o fitness médio da população, $ϕ=ax+by$, o crescimento/decrescimento de cada população, passa a ser relativo ao fitness médio, conforme as equações acima. \n",
    "\n",
    "Podemos simplicar o sistema acima, substituindo $y$ por $1−x$:\n",
    "\n",
    "$$\\dot{x}=x(1−x)(a−b)$$\n",
    "A equação acima apresenta dois equilíbrios: $x=0$ e $x=1$. No primeiro, todos os indivíduos são do tipo B e no segundo todos os indivíduos são do tipo A. Após o sistema atingir qualquer dos equilíbrios, nada mais pode ocorrer pois já não haverão indivíduos do outro tipo. Qual dos equilíbrios irá absorver a dinâmica do sistema depende  dos valores $a$ e $b$. Se $a<b$ o sistema convergirá para o equilíbrio $x=0$, e no caso contrário, para $x=1$. É a \"sobrevivência do mais apto\"."
   ]
  },
  {
   "cell_type": "code",
   "execution_count": 5,
   "metadata": {
    "ExecuteTime": {
     "end_time": "2021-09-29T12:57:40.544535Z",
     "start_time": "2021-09-29T12:57:40.537039Z"
    }
   },
   "outputs": [
    {
     "data": {
      "text/html": [
       "<html><script type=\"math/tex; mode=display\">\\newcommand{\\Bold}[1]{\\mathbf{#1}}{\\left(b {\\left(x - 1\\right)} - a x + a\\right)} x</script></html>"
      ],
      "text/latex": [
       "$$\\newcommand{\\Bold}[1]{\\mathbf{#1}}{\\left(b {\\left(x - 1\\right)} - a x + a\\right)} x$$"
      ],
      "text/plain": [
       "(b*(x - 1) - a*x + a)*x"
      ]
     },
     "metadata": {},
     "output_type": "display_data"
    }
   ],
   "source": [
    "var(\"a b x y\")\n",
    "c=(a-(a*x+b*y))*x\n",
    "s=x*(1-x)*(a-b)\n",
    "show(c.subs(y=1-x))\n"
   ]
  },
  {
   "cell_type": "markdown",
   "metadata": {},
   "source": [
    "## Sobrevivência do mais Apto\n",
    "Este modelo pode ser extendido para descrever a seleção entre $n$ tipos diferentes: Seja $x_i(t)$ a frequência do tipo $i$, $(i=1…n)$. Seja $f_i$ o fitness  do tipo $i$. Assim o fitness médio da população é dado por \n",
    "\n",
    "$$ϕ=\\sum_{i=1}^n x_if_i$$\n",
    "A dinâmica da seleção continua como antes:\n",
    "\n",
    "$$\\dot{x}_i=x_i(f_i−ϕ)$$\n",
    "Da mesma forma a frequencia de um dado tipo aumenta apenas se a sua fitness (aptidão) for maior que a da média da população, caso contrário diminuirá. A população total continua constante: $\\sum_{i=1}^n x_i=1$ e $\\sum^n_{i=1} \\dot{x}_i=0$."
   ]
  },
  {
   "cell_type": "markdown",
   "metadata": {},
   "source": [
    "#### Exercício:\n",
    "Implementar uma simulação de competição com 10 tipos para visualizar o efeito das extinções sobre o fitness médio da população e a dinâmica dos outros tipos"
   ]
  },
  {
   "cell_type": "code",
   "execution_count": 6,
   "metadata": {
    "ExecuteTime": {
     "end_time": "2021-10-04T12:29:25.407486Z",
     "start_time": "2021-10-04T12:29:25.254455Z"
    }
   },
   "outputs": [],
   "source": [
    "import numpy as np\n",
    "n = 10\n",
    "fis = np.array([random() for i in range(n)])\n",
    "def evolucao(t,y):\n",
    "    phi = sum(np.array(y)*fis)\n",
    "    d = y*(fis-phi)\n",
    "    return d"
   ]
  },
  {
   "cell_type": "code",
   "execution_count": 7,
   "metadata": {
    "ExecuteTime": {
     "end_time": "2021-10-04T12:29:27.163204Z",
     "start_time": "2021-10-04T12:29:26.892761Z"
    }
   },
   "outputs": [],
   "source": [
    "T = ode_solver()\n",
    "T.algorithm = \"rk8pd\"\n",
    "T.function = evolucao\n",
    "T.ode_solve(y_0=[1/n]*n,t_span=[0,50], num_points=500)"
   ]
  },
  {
   "cell_type": "code",
   "execution_count": 8,
   "metadata": {
    "ExecuteTime": {
     "end_time": "2021-10-04T12:30:21.334490Z",
     "start_time": "2021-10-04T12:30:21.314773Z"
    }
   },
   "outputs": [],
   "source": [
    "from itertools import cycle\n",
    "c = cycle(['red','blue','green', 'black', 'yellow', 'orange', 'magenta', 'gray', 'pink', 'brown'])\n",
    "def plot_sol(sol):\n",
    "    #fitness medio\n",
    "    plots = list_plot([(j[0],sum(fis*np.array(j[1]))) for j in sol], plotjoined=True, linestyle='-.', legend_label=r\"$\\phi$\")\n",
    "    for i in range(len(sol[0][1])):\n",
    "        co = c.__next__()\n",
    "        plots += list_plot([(j[0],j[1][i]) for j in sol],color=co, plotjoined=True, legend_label='$x_{%s}$'%i, alpha=.8, gridlines=true)\n",
    "    show(plots)"
   ]
  },
  {
   "cell_type": "code",
   "execution_count": 17,
   "metadata": {
    "ExecuteTime": {
     "end_time": "2021-10-04T12:30:22.288596Z",
     "start_time": "2021-10-04T12:30:22.273707Z"
    }
   },
   "outputs": [
    {
     "data": {
      "text/html": [
       "<html><script type=\"math/tex; mode=display\">\\newcommand{\\Bold}[1]{\\mathbf{#1}}\\verb|Initial|\\verb| |\\verb|conditions:| \\verb|[0.1|\\verb| |\\verb|0.1|\\verb| |\\verb|0.1|\\verb| |\\verb|0.1|\\verb| |\\verb|0.1|\\verb| |\\verb|0.1|\\verb| |\\verb|0.1|\\verb| |\\verb|0.1|\\verb| |\\verb|0.1|\\verb| |\\verb|0.1]|</script></html>"
      ],
      "text/latex": [
       "$$\\newcommand{\\Bold}[1]{\\mathbf{#1}}\\verb|Initial|\\verb| |\\verb|conditions:| \\verb|[0.1|\\verb| |\\verb|0.1|\\verb| |\\verb|0.1|\\verb| |\\verb|0.1|\\verb| |\\verb|0.1|\\verb| |\\verb|0.1|\\verb| |\\verb|0.1|\\verb| |\\verb|0.1|\\verb| |\\verb|0.1|\\verb| |\\verb|0.1]|$$"
      ],
      "text/plain": [
       "'Initial conditions: ' array([0.1, 0.1, 0.1, 0.1, 0.1, 0.1, 0.1, 0.1, 0.1, 0.1])"
      ]
     },
     "metadata": {},
     "output_type": "display_data"
    },
    {
     "data": {
      "text/html": [
       "<html><script type=\"math/tex; mode=display\">\\newcommand{\\Bold}[1]{\\mathbf{#1}}\\verb|fi|\\verb| |\\verb|=| \\begin{array}{l}\n",
       "\\verb|[0.49429126|\\verb| |\\verb|0.20793097|\\verb| |\\verb|0.50786114|\\verb| |\\verb|0.56471767|\\verb| |\\verb|0.53778989|\\verb| |\\verb|0.73932407|\\\\\n",
       "\\verb| |\\verb|0.83063485|\\verb| |\\verb|0.89952274|\\verb| |\\verb|0.9606504|\\verb|  |\\verb|0.34698637]|\n",
       "\\end{array}</script></html>"
      ],
      "text/latex": [
       "$$\\newcommand{\\Bold}[1]{\\mathbf{#1}}\\verb|fi|\\verb| |\\verb|=| \\begin{array}{l}\n",
       "\\verb|[0.49429126|\\verb| |\\verb|0.20793097|\\verb| |\\verb|0.50786114|\\verb| |\\verb|0.56471767|\\verb| |\\verb|0.53778989|\\verb| |\\verb|0.73932407|\\\\\n",
       "\\verb| |\\verb|0.83063485|\\verb| |\\verb|0.89952274|\\verb| |\\verb|0.9606504|\\verb|  |\\verb|0.34698637]|\n",
       "\\end{array}$$"
      ],
      "text/plain": [
       "'fi = ' array([0.49429126, 0.20793097, 0.50786114, 0.56471767, 0.53778989,\n",
       "       0.73932407, 0.83063485, 0.89952274, 0.9606504 , 0.34698637])"
      ]
     },
     "metadata": {},
     "output_type": "display_data"
    },
    {
     "data": {
      "text/html": [
       "<html><script type=\"math/tex; mode=display\">\\newcommand{\\Bold}[1]{\\mathbf{#1}}\\verb|Fitness|\\verb| |\\verb|medio:| 0.6089709355554841</script></html>"
      ],
      "text/latex": [
       "$$\\newcommand{\\Bold}[1]{\\mathbf{#1}}\\verb|Fitness|\\verb| |\\verb|medio:| 0.6089709355554841$$"
      ],
      "text/plain": [
       "'Fitness medio: ' 0.6089709355554841"
      ]
     },
     "metadata": {},
     "output_type": "display_data"
    }
   ],
   "source": [
    "show(\"Initial conditions: \", np.array(T.solution[0][1]))\n",
    "show(\"fi = \",fis)\n",
    "show(\"Fitness medio: \",sum(fis*np.array(T.solution[0][1])))"
   ]
  },
  {
   "cell_type": "code",
   "execution_count": 18,
   "metadata": {
    "ExecuteTime": {
     "end_time": "2021-10-04T12:30:26.533078Z",
     "start_time": "2021-10-04T12:30:24.300230Z"
    }
   },
   "outputs": [
    {
     "data": {
      "image/png": "[encoded data removed]",
      "text/plain": [
       "Graphics object consisting of 11 graphics primitives"
      ]
     },
     "metadata": {},
     "output_type": "display_data"
    }
   ],
   "source": [
    "plot_sol(T.solution)"
   ]
  },
  {
   "cell_type": "markdown",
   "metadata": {},
   "source": [
    "## O Simplex\n",
    "o conjunto de pontos com a propriedade $\\sum_{i=1}^n x_i=1$ é chamado simplex $S_n$. Em modelos Evolutivos como os que estamos estudando, as população evoluem no simplex.  O Simplex $S_n$ é uma estrutura $(n−1)$-dimensional embutida em um espaço Euclidiano $n$-dimensional. Então para dois tipos, temos um segmento de reta, $S_2$, para três , um triângulo, $S_3$  para 4 um tetraedro, $S_4$ e  assim por diante. o simplex $S_n$ tem $n$ faces e cada uma delas é um simplex $S_{n−1}$. Os vértices de um simplex no contexto de nosso modelo evolutivo, são os pontos onde a penas um tipo está presente, e os demais foram extintos. Os pontos do simplex, que não pertencem a nenhuma das faces ou são vértices, são pontos internos, que representam estados onde há co-existência entre todos os $n$ tipos.\n",
    "\n",
    "### Relaxando a premissa de taxas de crescimento lineares\n",
    "No modelo de dois tipos apresentado acima, assumimos que a taxas de crescimento eram funções lineares da frequência dos tipos. Podemos relaxar esta premissa re-escrevendo as equações da seguinte forma:\n",
    "\\begin{align}\n",
    "\\dot{x}&=ax^c−ϕx\\\\\n",
    "\\dot{y}&=by^c−ϕy\n",
    "\\end{align}\n",
    "\n",
    "Neste novo modelo se $c=1$ temos nosso modelo antigo, mas se $c<1$ temos um crescimento sub-exponencial, ou seja na ausência da limitação por densidade, $ϕ$,  a curva de crescimento seria mais lenta do que uma exponencial. Quando $c>1$, o crescimento torna-se super-exponencial e a curva de crescimento hiperbólica.\n",
    "\n"
   ]
  },
  {
   "cell_type": "code",
   "execution_count": 19,
   "metadata": {
    "ExecuteTime": {
     "end_time": "2021-09-29T13:19:50.920714Z",
     "start_time": "2021-09-29T13:19:50.454096Z"
    }
   },
   "outputs": [
    {
     "data": {
      "text/html": [
       "<script type=\"math/tex\">c>1</script>"
      ],
      "text/plain": [
       "<script type=\"math/tex\">c>1</script>"
      ]
     },
     "metadata": {},
     "output_type": "display_data"
    },
    {
     "data": {
      "text/html": [
       "<html><script type=\"math/tex; mode=display\">\\newcommand{\\Bold}[1]{\\mathbf{#1}}\\frac{\\log\\left(a x\\left(t\\right) - \\phi\\right) - \\log\\left(x\\left(t\\right)\\right)}{\\phi} = C + t</script></html>"
      ],
      "text/latex": [
       "$$\\newcommand{\\Bold}[1]{\\mathbf{#1}}\\frac{\\log\\left(a x\\left(t\\right) - \\phi\\right) - \\log\\left(x\\left(t\\right)\\right)}{\\phi} = C + t$$"
      ],
      "text/plain": [
       "(log(a*x(t) - phi) - log(x(t)))/phi == _C + t"
      ]
     },
     "metadata": {},
     "output_type": "display_data"
    },
    {
     "data": {
      "text/html": [
       "<script type=\"math/tex\">c<1</script>"
      ],
      "text/plain": [
       "<script type=\"math/tex\">c<1</script>"
      ]
     },
     "metadata": {},
     "output_type": "display_data"
    },
    {
     "data": {
      "text/html": [
       "<html><script type=\"math/tex; mode=display\">\\newcommand{\\Bold}[1]{\\mathbf{#1}}-\\frac{10 \\, \\log\\left(\\phi x\\left(t\\right)^{\\frac{1}{10}} - a\\right)}{\\phi} = C + t</script></html>"
      ],
      "text/latex": [
       "$$\\newcommand{\\Bold}[1]{\\mathbf{#1}}-\\frac{10 \\, \\log\\left(\\phi x\\left(t\\right)^{\\frac{1}{10}} - a\\right)}{\\phi} = C + t$$"
      ],
      "text/plain": [
       "-10*log(phi*x(t)^(1/10) - a)/phi == _C + t"
      ]
     },
     "metadata": {},
     "output_type": "display_data"
    },
    {
     "data": {
      "text/html": [
       "<script type=\"math/tex\">c=1</script>"
      ],
      "text/plain": [
       "<script type=\"math/tex\">c=1</script>"
      ]
     },
     "metadata": {},
     "output_type": "display_data"
    },
    {
     "data": {
      "text/html": [
       "<html><script type=\"math/tex; mode=display\">\\newcommand{\\Bold}[1]{\\mathbf{#1}}C e^{\\left({\\left(a - \\phi\\right)} t\\right)}</script></html>"
      ],
      "text/latex": [
       "$$\\newcommand{\\Bold}[1]{\\mathbf{#1}}C e^{\\left({\\left(a - \\phi\\right)} t\\right)}$$"
      ],
      "text/plain": [
       "_C*e^((a - phi)*t)"
      ]
     },
     "metadata": {},
     "output_type": "display_data"
    }
   ],
   "source": [
    "var('x y a  b c phi t')\n",
    "x = function('x')(t)\n",
    "f = diff(x,t) == a*x^c -phi*x\n",
    "pretty_print(html('$c>1$'))\n",
    "show(desolve(f(c=2),x, ics=[0], ivar=t, contrib_ode=True))\n",
    "pretty_print(html('$c<1$'))\n",
    "show(desolve(f(c=0.9),x, ics=[0], ivar=t, contrib_ode=True))\n",
    "pretty_print(html('$c=1$'))\n",
    "show(desolve(f(c=1),x, ics=[0], ivar=t, contrib_ode=True))"
   ]
  },
  {
   "cell_type": "markdown",
   "metadata": {},
   "source": [
    "Para manter a população constante agora, $x+y=1$,  fazemos $ϕ=ax^c+by^c$. Então, de forma similar a como fizemos anteriormente, podemos simplificar o sistema acima a\n",
    "\n",
    "$$\\dot{x}=x(1−x)f(x)$$\n",
    "onde\n",
    "\n",
    "$$f(x)=ax^{c−1}−b(1−x)^{c−1}$$\n"
   ]
  },
  {
   "cell_type": "code",
   "execution_count": 20,
   "metadata": {
    "ExecuteTime": {
     "end_time": "2021-09-29T13:22:12.057492Z",
     "start_time": "2021-09-29T13:22:11.371476Z"
    }
   },
   "outputs": [
    {
     "data": {
      "application/vnd.jupyter.widget-view+json": {
       "model_id": "0ba4a59f9b1b4c3ab8946b547f5d4939",
       "version_major": 2,
       "version_minor": 0
      },
      "text/plain": [
       "Interactive function <function variando_c at 0x7f095953d630> with 1 widget\n",
       "  c: FloatSlider(value=1.0, min=0.2…"
      ]
     },
     "metadata": {},
     "output_type": "display_data"
    }
   ],
   "source": [
    "a=.5\n",
    "b=.6\n",
    "\n",
    "@interact\n",
    "def variando_c(c=(0.2,1.8,.2)):\n",
    "    phi(x) = a*x^(c-1)-b*(1-x)^(c-1)\n",
    "    P = plot((x*(1-x)*phi).subs(a=.5, b=.6, c=c),(x,0,1))\n",
    "    show(P)"
   ]
  },
  {
   "cell_type": "markdown",
   "metadata": {},
   "source": [
    "#### Exercício 1:\n",
    "Encontrar o equilíbrio interno ao simplex acima, $x^∗$, como uma expresão dos parâmetros do modelo, decrevendo a sua estabilidade, quando  $c>1$ e quando $c<1$."
   ]
  },
  {
   "cell_type": "code",
   "execution_count": 13,
   "metadata": {
    "ExecuteTime": {
     "end_time": "2021-09-29T13:25:48.752670Z",
     "start_time": "2021-09-29T13:25:48.740791Z"
    }
   },
   "outputs": [
    {
     "data": {
      "text/html": [
       "<html><script type=\"math/tex; mode=display\">\\newcommand{\\Bold}[1]{\\mathbf{#1}}\\left[x = 0, x = 1\\right]</script></html>"
      ],
      "text/latex": [
       "$$\\newcommand{\\Bold}[1]{\\mathbf{#1}}\\left[x = 0, x = 1\\right]$$"
      ],
      "text/plain": [
       "[x == 0, x == 1]"
      ]
     },
     "execution_count": 13,
     "metadata": {},
     "output_type": "execute_result"
    }
   ],
   "source": [
    "s = solve(x*(1-x)*phi,x)\n",
    "s"
   ]
  },
  {
   "cell_type": "markdown",
   "metadata": {},
   "source": [
    "Então para $c≠1$, existe apenas um outro ponto fixo entre 0 e 1:\n",
    "\n",
    "$$x^∗=\\frac{1}{1+\\sqrt[c-1]{a/b}}$$"
   ]
  },
  {
   "cell_type": "markdown",
   "metadata": {},
   "source": [
    "### Invasibilidade\n",
    "Invasão significa que uma quantidade infinitesimal de um dos tipos consegue crescer em uma população quase que completamente constituída pelo outro tipo.\n",
    "\n",
    "#### Exercício 2:\n",
    "Simule a dinâmica de um modelo com dois tipos e mostre o efeito do valor de c sobre a invasibilidade de um dos tipos."
   ]
  },
  {
   "cell_type": "code",
   "execution_count": null,
   "metadata": {},
   "outputs": [],
   "source": []
  },
  {
   "cell_type": "markdown",
   "metadata": {},
   "source": [
    "#### Exercício 3:\n",
    "Construa o diagrama de bifurcação do sistema $\\dot{x}=x(1−x)f(x)$, onde $f(x)=ax^{c−1}−b(1−x)^{c−1}$. Encontre o ponto de bifurcação e identifique o tipo de bifurcação."
   ]
  },
  {
   "cell_type": "code",
   "execution_count": null,
   "metadata": {},
   "outputs": [],
   "source": []
  },
  {
   "cell_type": "markdown",
   "metadata": {},
   "source": [
    "## Mutação\n",
    "O processo natural de mutação, é a principal fonte de geração de variabilidade, que é a matéria prima sobre a qual a seleção natural atua. Mutações são erros que ocorrem durante a replicação do material genético de um indivíduo durante a reprodução. \n",
    "\n",
    "Vamos explorar a forma mais simples de inserir o conceito de mutação no modelo evolutivo que estamos desenvolvendo. Chamemos de $u_1$ a taxa de mutação de A para B, ou seja, $u_1$ é a probabilidade de que a reprodução de um indivíduo do tipo A gere um indivíduo do tipo B.  De maneira similar, vamos chamar de $u_2$ a taxa de mutação de B para A. Isto nos leva às seguintes equações:\n",
    "\\begin{align}\n",
    "\\dot{x}&=x(1−u_1)+yu_2−ϕx\\\\\n",
    "\\dot{y}&=xu_1+y(1−u_2)−ϕy\n",
    "\\end{align}\n",
    "Se assumirmos que A e B têm o mesmo fitness, ou seja, ($a=b=1$), o fitness médio da população, é constante e dado por $ϕ=ax+by=1$, dado que $x+y=1$. Com isso, o sistema acima se reduz à seguinte equação diferencial:\n",
    "\n",
    "$$\\dot{x}=u_2−x(u_1+u_2).$$\n",
    "Que apresenta o seguinte equilíbrio para a frequência do tipo A:\n",
    "\n"
   ]
  },
  {
   "cell_type": "code",
   "execution_count": 10,
   "metadata": {
    "ExecuteTime": {
     "end_time": "2021-10-04T12:45:06.728460Z",
     "start_time": "2021-10-04T12:45:06.716569Z"
    }
   },
   "outputs": [
    {
     "data": {
      "text/html": [
       "<html><script type=\"math/tex; mode=display\">\\newcommand{\\Bold}[1]{\\mathbf{#1}}\\left[x = \\frac{u_{2}}{u_{1} + u_{2}}\\right]</script></html>"
      ],
      "text/latex": [
       "$$\\newcommand{\\Bold}[1]{\\mathbf{#1}}\\left[x = \\frac{u_{2}}{u_{1} + u_{2}}\\right]$$"
      ],
      "text/plain": [
       "[x == u_2/(u_1 + u_2)]"
      ]
     },
     "execution_count": 10,
     "metadata": {},
     "output_type": "execute_result"
    }
   ],
   "source": [
    "var('x u_1 u_2')\n",
    "solve(u_2-x*(u_1+u_2),x)"
   ]
  },
  {
   "cell_type": "markdown",
   "metadata": {},
   "source": [
    "Concluímos que neste caso de igual fitness a mutação leva à co-existência dos tipos, e as suas frequências no equilíbrio dependerá das taxas de mutação.\n",
    "\n",
    "#### Exercício 4:\n",
    "Encontre a razão entre as frequências de A e B no equilíbrio."
   ]
  },
  {
   "cell_type": "code",
   "execution_count": null,
   "metadata": {},
   "outputs": [],
   "source": []
  },
  {
   "cell_type": "markdown",
   "metadata": {},
   "source": [
    "### Matriz de Mutação\n",
    "Podemos extender a dinâmica de mutação para $n$ tipos. Para isso precisamos introduzir a matriz de mutação, $Q=[q_{ij}]$. A probabilidade e do tipo $i$ mutar para o tipo $j$ é dada por $q_{ij}$. Como cada tipo gera, na reprodução, um outro indivíduo do seu tipo ou de outro tipo, temos que $\\sum^n_{j=1}q_{ij}=1$. Logo $Q$ é uma matriz estocástica $n\\times n$.\n",
    "\n",
    "Matrizes estocásticas têm as seguintes propriedades:\n",
    "\n",
    "1. Todos os elementos são números no intervalo [0,1] (probabilidades)\n",
    "1. São quadradas\n",
    "1. A soma de cada linha é 1\n",
    "\n",
    "Matrizes estocásticas têm sempre um autovalor igual a 1 , e nenhum autovalor pode ter um valor absoluto maior do que 1.\n",
    "\n",
    "O dinâmica de mutação fica então:\n",
    "\n",
    "$$\\dot{x}_i=\\sum_{j=1}^n x_jq_{ji}−ϕx_i$$\n",
    "para $i=1,\\ldots,n.$ \n",
    "\n",
    "Ou, em notação vetorial:\n",
    "\n",
    "$$\\dot{\\overrightarrow{x}}=\\overrightarrow{x} Q−\\phi\\overrightarrow{x}$$\n",
    "Novamente o fitness médio é $ϕ=1$. O equilíbrio é dado pelo autovetor à esquerda, associado com o autovalor 1:\n",
    "\n",
    "$$\\overrightarrow{x^∗}Q=\\overrightarrow{x^∗}$$"
   ]
  },
  {
   "cell_type": "markdown",
   "metadata": {},
   "source": [
    "#### Exercício 5:\n",
    "Simule um modelo de seleção com mutação, com matrizes de mutação simétricas e assimétricas."
   ]
  },
  {
   "cell_type": "code",
   "execution_count": null,
   "metadata": {},
   "outputs": [],
   "source": []
  }
 ],
 "metadata": {
  "kernelspec": {
   "display_name": "SageMath 9.5",
   "language": "sage",
   "name": "sagemath"
  },
  "language_info": {
   "codemirror_mode": {
    "name": "ipython",
    "version": 3
   },
   "file_extension": ".py",
   "mimetype": "text/x-python",
   "name": "python",
   "nbconvert_exporter": "python",
   "pygments_lexer": "ipython3",
   "version": "3.10.4"
  },
  "latex_envs": {
   "LaTeX_envs_menu_present": true,
   "autoclose": false,
   "autocomplete": true,
   "bibliofile": "biblio.bib",
   "cite_by": "apalike",
   "current_citInitial": 1,
   "eqLabelWithNumbers": true,
   "eqNumInitial": 1,
   "hotkeys": {
    "equation": "Ctrl-E",
    "itemize": "Ctrl-I"
   },
   "labels_anchors": false,
   "latex_user_defs": false,
   "report_style_numbering": false,
   "user_envs_cfg": false
  },
  "toc": {
   "base_numbering": 1,
   "nav_menu": {},
   "number_sections": true,
   "sideBar": true,
   "skip_h1_title": false,
   "title_cell": "Table of Contents",
   "title_sidebar": "Contents",
   "toc_cell": false,
   "toc_position": {},
   "toc_section_display": true,
   "toc_window_display": false
  }
 },
 "nbformat": 4,
 "nbformat_minor": 2
}
