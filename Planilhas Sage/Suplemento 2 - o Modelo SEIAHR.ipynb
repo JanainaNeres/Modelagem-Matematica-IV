{
 "cells": [
  {
   "cell_type": "markdown",
   "metadata": {},
   "source": [
    "# Combinando Modelos e dados: COVID-19\n",
    "\n",
    "Ao se modelar uma epidemia real, a concordância do modelo e os dados observados é de extrema importância.\n",
    "\n",
    "Neste Notebook vamos estudar o Modelo SEIAHR proposto para a COVID-19 por [Coelho et al](https://www.medrxiv.org/content/10.1101/2020.06.15.20132050v1). Neste modelo, temos os seguintes compartimentos:\n",
    "![diagrama](seiahr.jpg)\n",
    "\n",
    "Matemáticamente:\n",
    "\\begin{align}\n",
    "\\frac{dS}{dt}&=-\\lambda [(1-\\chi) S],\\\\\n",
    "\\frac{dE}{dt}&= \\lambda [(1-\\chi) S]-\\alpha E,\\\\\n",
    "\\frac{dI}{dt}&= (1-p)\\alpha E - \\delta I -\\phi I,\\\\\n",
    "\\frac{dA}{dt}&= p\\alpha E - \\gamma A,\\\\\n",
    "\\frac{dH}{dt}&= \\phi I -(\\rho+\\mu) H,\\\\\n",
    "\\frac{dR}{dt}&= \\delta I + \\rho H+\\gamma A,\n",
    "\\end{align}\n",
    "\n",
    "onde $\\lambda=\\beta (I+A)$.\n",
    "\n",
    "Para facilitar nosso trabalho com dados dentro do ambiente Sage, precisamos instalar o Pandas para isso\n",
    "em um terminal use o seguinte comando: \n",
    "```\n",
    "sage -sh\n",
    "```\n",
    "este comando iniciará uma subsessão do sage onde você poderá instalar o pandas com o comando usual:\n",
    "```\n",
    "pip install pandas\n",
    "pip install parameter-sherpa\n",
    "exit\n",
    "```\n",
    "o comando `exit` após a instalação visa sair da subsessão do Sage."
   ]
  },
  {
   "cell_type": "code",
   "execution_count": 1,
   "metadata": {
    "ExecuteTime": {
     "end_time": "2021-08-30T13:21:16.050510Z",
     "start_time": "2021-08-30T13:21:15.390507Z"
    }
   },
   "outputs": [],
   "source": [
    "import numpy as np\n",
    "import pandas as pd\n",
    "%display typeset"
   ]
  },
  {
   "cell_type": "code",
   "execution_count": 2,
   "metadata": {
    "ExecuteTime": {
     "end_time": "2021-08-30T13:22:20.384814Z",
     "start_time": "2021-08-30T13:22:20.371353Z"
    }
   },
   "outputs": [],
   "source": [
    "def model(t, y, params):\n",
    "    S, E, I, A, H, R, C, D = y\n",
    "    chi, phi, beta, rho, delta, gamma, alpha, mu, p, q, r = params\n",
    "    lamb = beta * (I + A)\n",
    "    # Turns on Quarantine on day q and off on day q+r\n",
    "    chi *= ((1 + np.tanh(t - q)) / 2) * ((1 - np.tanh(t - (q + r))) / 2)\n",
    "    return [\n",
    "        -lamb * ((1 - chi) * S),  # dS/dt\n",
    "        lamb * ((1 - chi) * S) - alpha * E,  # dE/dt\n",
    "        (1 - p) * alpha * E - delta * I - phi * I,  # dI/dt\n",
    "        p * alpha * E - gamma * A,\n",
    "        phi * I - (rho + mu) * H,  # dH/dt\n",
    "        delta * I + rho * H + gamma * A,  # dR/dt\n",
    "        phi * I,  # (1-p)*alpha*E+ p*alpha*E # Hospit. acumuladas\n",
    "        mu * H  # Morte acumuladas\n",
    "    ]           "
   ]
  },
  {
   "cell_type": "code",
   "execution_count": 3,
   "metadata": {
    "ExecuteTime": {
     "end_time": "2021-08-30T13:22:51.595504Z",
     "start_time": "2021-08-30T13:22:51.585343Z"
    }
   },
   "outputs": [],
   "source": [
    "chi = .3\n",
    "phi = 0.012413633926076584\n",
    "beta = 0.27272459855759813\n",
    "rho = 0.2190519831830368\n",
    "delta = 0.04168480042146949\n",
    "gamma = 0.04\n",
    "alpha =  0.3413355572047603\n",
    "mu = 0.02359234606623134\n",
    "p = 0.7693029079871165\n",
    "q = 50\n",
    "r = 55"
   ]
  },
  {
   "cell_type": "code",
   "execution_count": 4,
   "metadata": {
    "ExecuteTime": {
     "end_time": "2021-08-30T13:22:54.709881Z",
     "start_time": "2021-08-30T13:22:53.674808Z"
    }
   },
   "outputs": [],
   "source": [
    "T = ode_solver()\n",
    "T.function = model\n",
    "T.algorithm='rk8pd'\n",
    "inits = [.99, 0, 1e-4, 0, 0, 0, 0, 0]\n",
    "tspan = [0,200]\n",
    "T.ode_solve(tspan, inits, num_points=200, params=[chi,phi,beta,rho,delta,gamma,alpha,mu,p,q,r])"
   ]
  },
  {
   "cell_type": "code",
   "execution_count": 5,
   "metadata": {
    "ExecuteTime": {
     "end_time": "2021-08-30T13:22:56.382603Z",
     "start_time": "2021-08-30T13:22:56.363911Z"
    }
   },
   "outputs": [
    {
     "data": {
      "text/html": [
       "<html><script type=\"math/tex; mode=display\">\\newcommand{\\Bold}[1]{\\mathbf{#1}}\\begin{array}{l}\n",
       "\\verb|[[9.90000000e-01|\\phantom{\\verb!x!}\\verb|0.00000000e+00|\\phantom{\\verb!x!}\\verb|1.00000000e-04|\\phantom{\\verb!x!}\\verb|...|\\phantom{\\verb!x!}\\verb|0.00000000e+00|\\\\\n",
       "\\phantom{\\verb!xx!}\\verb|0.00000000e+00|\\phantom{\\verb!x!}\\verb|0.00000000e+00]|\\\\\n",
       "\\phantom{\\verb!x!}\\verb|[9.89973344e-01|\\phantom{\\verb!x!}\\verb|2.25755111e-05|\\phantom{\\verb!x!}\\verb|9.56580086e-05|\\phantom{\\verb!x!}\\verb|...|\\phantom{\\verb!x!}\\verb|4.23720621e-06|\\\\\n",
       "\\phantom{\\verb!xx!}\\verb|1.21233870e-06|\\phantom{\\verb!x!}\\verb|1.33047275e-08]|\\\\\n",
       "\\phantom{\\verb!x!}\\verb|[9.89946090e-01|\\phantom{\\verb!x!}\\verb|3.91711356e-05|\\phantom{\\verb!x!}\\verb|9.30197071e-05|\\phantom{\\verb!x!}\\verb|...|\\phantom{\\verb!x!}\\verb|8.76177490e-06|\\\\\n",
       "\\phantom{\\verb!xx!}\\verb|2.38193156e-06|\\phantom{\\verb!x!}\\verb|4.86367287e-08]|\\\\\n",
       "\\phantom{\\verb!x!}\\verb|...|\\\\\n",
       "\\phantom{\\verb!x!}\\verb|[7.05921911e-03|\\phantom{\\verb!x!}\\verb|4.50726801e-05|\\phantom{\\verb!x!}\\verb|5.18874882e-04|\\phantom{\\verb!x!}\\verb|...|\\phantom{\\verb!x!}\\verb|9.70886461e-01|\\\\\n",
       "\\phantom{\\verb!xx!}\\verb|5.19350779e-02|\\phantom{\\verb!x!}\\verb|5.04644718e-03]|\\\\\n",
       "\\phantom{\\verb!x!}\\verb|[7.04595718e-03|\\phantom{\\verb!x!}\\verb|4.32611015e-05|\\phantom{\\verb!x!}\\verb|4.94934735e-04|\\phantom{\\verb!x!}\\verb|...|\\phantom{\\verb!x!}\\verb|9.71170175e-01|\\\\\n",
       "\\phantom{\\verb!xx!}\\verb|5.19413692e-02|\\phantom{\\verb!x!}\\verb|5.04720754e-03]|\\\\\n",
       "\\phantom{\\verb!x!}\\verb|[7.03322409e-03|\\phantom{\\verb!x!}\\verb|4.15259091e-05|\\phantom{\\verb!x!}\\verb|4.72119417e-04|\\phantom{\\verb!x!}\\verb|...|\\phantom{\\verb!x!}\\verb|9.71443013e-01|\\\\\n",
       "\\phantom{\\verb!xx!}\\verb|5.19473704e-02|\\phantom{\\verb!x!}\\verb|5.04793268e-03]]|\n",
       "\\end{array}</script></html>"
      ],
      "text/latex": [
       "$$\\newcommand{\\Bold}[1]{\\mathbf{#1}}\\begin{array}{l}\n",
       "\\verb|[[9.90000000e-01|\\phantom{\\verb!x!}\\verb|0.00000000e+00|\\phantom{\\verb!x!}\\verb|1.00000000e-04|\\phantom{\\verb!x!}\\verb|...|\\phantom{\\verb!x!}\\verb|0.00000000e+00|\\\\\n",
       "\\phantom{\\verb!xx!}\\verb|0.00000000e+00|\\phantom{\\verb!x!}\\verb|0.00000000e+00]|\\\\\n",
       "\\phantom{\\verb!x!}\\verb|[9.89973344e-01|\\phantom{\\verb!x!}\\verb|2.25755111e-05|\\phantom{\\verb!x!}\\verb|9.56580086e-05|\\phantom{\\verb!x!}\\verb|...|\\phantom{\\verb!x!}\\verb|4.23720621e-06|\\\\\n",
       "\\phantom{\\verb!xx!}\\verb|1.21233870e-06|\\phantom{\\verb!x!}\\verb|1.33047275e-08]|\\\\\n",
       "\\phantom{\\verb!x!}\\verb|[9.89946090e-01|\\phantom{\\verb!x!}\\verb|3.91711356e-05|\\phantom{\\verb!x!}\\verb|9.30197071e-05|\\phantom{\\verb!x!}\\verb|...|\\phantom{\\verb!x!}\\verb|8.76177490e-06|\\\\\n",
       "\\phantom{\\verb!xx!}\\verb|2.38193156e-06|\\phantom{\\verb!x!}\\verb|4.86367287e-08]|\\\\\n",
       "\\phantom{\\verb!x!}\\verb|...|\\\\\n",
       "\\phantom{\\verb!x!}\\verb|[7.05921911e-03|\\phantom{\\verb!x!}\\verb|4.50726801e-05|\\phantom{\\verb!x!}\\verb|5.18874882e-04|\\phantom{\\verb!x!}\\verb|...|\\phantom{\\verb!x!}\\verb|9.70886461e-01|\\\\\n",
       "\\phantom{\\verb!xx!}\\verb|5.19350779e-02|\\phantom{\\verb!x!}\\verb|5.04644718e-03]|\\\\\n",
       "\\phantom{\\verb!x!}\\verb|[7.04595718e-03|\\phantom{\\verb!x!}\\verb|4.32611015e-05|\\phantom{\\verb!x!}\\verb|4.94934735e-04|\\phantom{\\verb!x!}\\verb|...|\\phantom{\\verb!x!}\\verb|9.71170175e-01|\\\\\n",
       "\\phantom{\\verb!xx!}\\verb|5.19413692e-02|\\phantom{\\verb!x!}\\verb|5.04720754e-03]|\\\\\n",
       "\\phantom{\\verb!x!}\\verb|[7.03322409e-03|\\phantom{\\verb!x!}\\verb|4.15259091e-05|\\phantom{\\verb!x!}\\verb|4.72119417e-04|\\phantom{\\verb!x!}\\verb|...|\\phantom{\\verb!x!}\\verb|9.71443013e-01|\\\\\n",
       "\\phantom{\\verb!xx!}\\verb|5.19473704e-02|\\phantom{\\verb!x!}\\verb|5.04793268e-03]]|\n",
       "\\end{array}$$"
      ],
      "text/plain": [
       "array([[9.90000000e-01, 0.00000000e+00, 1.00000000e-04, ...,\n",
       "        0.00000000e+00, 0.00000000e+00, 0.00000000e+00],\n",
       "       [9.89973344e-01, 2.25755111e-05, 9.56580086e-05, ...,\n",
       "        4.23720621e-06, 1.21233870e-06, 1.33047275e-08],\n",
       "       [9.89946090e-01, 3.91711356e-05, 9.30197071e-05, ...,\n",
       "        8.76177490e-06, 2.38193156e-06, 4.86367287e-08],\n",
       "       ...,\n",
       "       [7.05921911e-03, 4.50726801e-05, 5.18874882e-04, ...,\n",
       "        9.70886461e-01, 5.19350779e-02, 5.04644718e-03],\n",
       "       [7.04595718e-03, 4.32611015e-05, 4.94934735e-04, ...,\n",
       "        9.71170175e-01, 5.19413692e-02, 5.04720754e-03],\n",
       "       [7.03322409e-03, 4.15259091e-05, 4.72119417e-04, ...,\n",
       "        9.71443013e-01, 5.19473704e-02, 5.04793268e-03]])"
      ]
     },
     "execution_count": 5,
     "metadata": {},
     "output_type": "execute_result"
    }
   ],
   "source": [
    "def get_sim_array(sol):\n",
    "    sim = np.array([y for t,y in sol])\n",
    "    return sim\n",
    "get_sim_array(T.solution)"
   ]
  },
  {
   "cell_type": "code",
   "execution_count": 6,
   "metadata": {
    "ExecuteTime": {
     "end_time": "2021-08-30T13:23:03.538964Z",
     "start_time": "2021-08-30T13:23:02.447005Z"
    }
   },
   "outputs": [
    {
     "data": {
      "image/png": "[encoded data removed]",
      "text/plain": [
       "Graphics object consisting of 8 graphics primitives"
      ]
     },
     "metadata": {},
     "output_type": "display_data"
    }
   ],
   "source": [
    "popRJ = 6.32e6\n",
    "def plot_sol(sol):\n",
    "    sim = get_sim_array(sol)*popRJ\n",
    "    P = list_plot(sim[:,0],legend_label='S')\n",
    "    colors = ['blue','red','pink','green','yellow','orange','black','purple']\n",
    "    for i,var in enumerate(['E','I','A','H','R','C','D']):\n",
    "        P += list_plot(sim[:,i+1],color=colors[i+1],legend_label=var)\n",
    "   \n",
    "    show(P)\n",
    "plot_sol(T.solution)"
   ]
  },
  {
   "cell_type": "code",
   "execution_count": 7,
   "metadata": {
    "ExecuteTime": {
     "end_time": "2021-08-30T13:25:56.475967Z",
     "start_time": "2021-08-30T13:25:56.469747Z"
    }
   },
   "outputs": [
    {
     "data": {
      "text/html": [
       "<html><script type=\"math/tex; mode=display\">\\newcommand{\\Bold}[1]{\\mathbf{#1}}328307.38107624033</script></html>"
      ],
      "text/latex": [
       "$$\\newcommand{\\Bold}[1]{\\mathbf{#1}}328307.38107624033$$"
      ],
      "text/plain": [
       "328307.38107624033"
      ]
     },
     "execution_count": 7,
     "metadata": {},
     "output_type": "execute_result"
    }
   ],
   "source": [
    "sims = get_sim_array(T.solution)\n",
    "sims[-1,-2]*popRJ"
   ]
  },
  {
   "cell_type": "markdown",
   "metadata": {},
   "source": [
    "## Obtendo os dados\n",
    "Os dados usados aqui foram obtidos do site [Brasil.io](https://brasil.io). Apenas os dados do estado do Rio de Janeiro foram extraídos e salvos em um CSV. "
   ]
  },
  {
   "cell_type": "code",
   "execution_count": 8,
   "metadata": {
    "ExecuteTime": {
     "end_time": "2021-08-30T13:27:12.130408Z",
     "start_time": "2021-08-30T13:27:12.123416Z"
    }
   },
   "outputs": [],
   "source": [
    "def load_data(state):\n",
    "    df = pd.read_csv(f'dados_{state}.csv')\n",
    "    df['data'] = pd.to_datetime(df.data)\n",
    "#     df.set_index('data', inplace=True)\n",
    "    return df"
   ]
  },
  {
   "cell_type": "code",
   "execution_count": 10,
   "metadata": {
    "ExecuteTime": {
     "end_time": "2021-08-30T13:28:39.992185Z",
     "start_time": "2021-08-30T13:28:39.964563Z"
    },
    "scrolled": false
   },
   "outputs": [
    {
     "data": {
      "text/html": [
       "<table border=\"1\" class=\"dataframe\">\n",
       "  <thead>\n",
       "    <tr style=\"text-align: right;\">\n",
       "      <th></th>\n",
       "      <th>data</th>\n",
       "      <th>date</th>\n",
       "      <th>last_available_confirmed</th>\n",
       "      <th>last_available_deaths</th>\n",
       "      <th>incidencia_casos</th>\n",
       "      <th>incidencia_morte</th>\n",
       "      <th>ew</th>\n",
       "    </tr>\n",
       "  </thead>\n",
       "  <tbody>\n",
       "    <tr>\n",
       "      <th>170</th>\n",
       "      <td>2020-08-22</td>\n",
       "      <td>2020-08-22</td>\n",
       "      <td>210464</td>\n",
       "      <td>15267</td>\n",
       "      <td>65.0</td>\n",
       "      <td>3428.0</td>\n",
       "      <td>34</td>\n",
       "    </tr>\n",
       "    <tr>\n",
       "      <th>171</th>\n",
       "      <td>2020-08-23</td>\n",
       "      <td>2020-08-23</td>\n",
       "      <td>210948</td>\n",
       "      <td>15292</td>\n",
       "      <td>25.0</td>\n",
       "      <td>484.0</td>\n",
       "      <td>35</td>\n",
       "    </tr>\n",
       "    <tr>\n",
       "      <th>172</th>\n",
       "      <td>2020-08-24</td>\n",
       "      <td>2020-08-24</td>\n",
       "      <td>211360</td>\n",
       "      <td>15392</td>\n",
       "      <td>100.0</td>\n",
       "      <td>412.0</td>\n",
       "      <td>35</td>\n",
       "    </tr>\n",
       "    <tr>\n",
       "      <th>173</th>\n",
       "      <td>2020-08-25</td>\n",
       "      <td>2020-08-25</td>\n",
       "      <td>214003</td>\n",
       "      <td>15560</td>\n",
       "      <td>168.0</td>\n",
       "      <td>2643.0</td>\n",
       "      <td>35</td>\n",
       "    </tr>\n",
       "    <tr>\n",
       "      <th>174</th>\n",
       "      <td>2020-08-26</td>\n",
       "      <td>2020-08-26</td>\n",
       "      <td>214003</td>\n",
       "      <td>15560</td>\n",
       "      <td>0.0</td>\n",
       "      <td>0.0</td>\n",
       "      <td>35</td>\n",
       "    </tr>\n",
       "  </tbody>\n",
       "</table>"
      ],
      "text/plain": [
       "<table border=\"1\" class=\"dataframe\">\n",
       "  <thead>\n",
       "    <tr style=\"text-align: right;\">\n",
       "      <th></th>\n",
       "      <th>data</th>\n",
       "      <th>date</th>\n",
       "      <th>last_available_confirmed</th>\n",
       "      <th>last_available_deaths</th>\n",
       "      <th>incidencia_casos</th>\n",
       "      <th>incidencia_morte</th>\n",
       "      <th>ew</th>\n",
       "    </tr>\n",
       "  </thead>\n",
       "  <tbody>\n",
       "    <tr>\n",
       "      <th>170</th>\n",
       "      <td>2020-08-22</td>\n",
       "      <td>2020-08-22</td>\n",
       "      <td>210464</td>\n",
       "      <td>15267</td>\n",
       "      <td>65.0</td>\n",
       "      <td>3428.0</td>\n",
       "      <td>34</td>\n",
       "    </tr>\n",
       "    <tr>\n",
       "      <th>171</th>\n",
       "      <td>2020-08-23</td>\n",
       "      <td>2020-08-23</td>\n",
       "      <td>210948</td>\n",
       "      <td>15292</td>\n",
       "      <td>25.0</td>\n",
       "      <td>484.0</td>\n",
       "      <td>35</td>\n",
       "    </tr>\n",
       "    <tr>\n",
       "      <th>172</th>\n",
       "      <td>2020-08-24</td>\n",
       "      <td>2020-08-24</td>\n",
       "      <td>211360</td>\n",
       "      <td>15392</td>\n",
       "      <td>100.0</td>\n",
       "      <td>412.0</td>\n",
       "      <td>35</td>\n",
       "    </tr>\n",
       "    <tr>\n",
       "      <th>173</th>\n",
       "      <td>2020-08-25</td>\n",
       "      <td>2020-08-25</td>\n",
       "      <td>214003</td>\n",
       "      <td>15560</td>\n",
       "      <td>168.0</td>\n",
       "      <td>2643.0</td>\n",
       "      <td>35</td>\n",
       "    </tr>\n",
       "    <tr>\n",
       "      <th>174</th>\n",
       "      <td>2020-08-26</td>\n",
       "      <td>2020-08-26</td>\n",
       "      <td>214003</td>\n",
       "      <td>15560</td>\n",
       "      <td>0.0</td>\n",
       "      <td>0.0</td>\n",
       "      <td>35</td>\n",
       "    </tr>\n",
       "  </tbody>\n",
       "</table>"
      ]
     },
     "execution_count": 10,
     "metadata": {},
     "output_type": "execute_result"
    }
   ],
   "source": [
    "dfRJ = load_data('RJ')\n",
    "ld = len(dfRJ)\n",
    "html(dfRJ.tail().to_html())"
   ]
  },
  {
   "cell_type": "code",
   "execution_count": null,
   "metadata": {
    "ExecuteTime": {
     "end_time": "2021-08-30T13:28:41.701372Z",
     "start_time": "2021-08-30T13:28:41.256027Z"
    }
   },
   "outputs": [],
   "source": [
    "subnot=1\n",
    "dfRJ.set_index('data')[['last_available_confirmed','last_available_deaths']].plot()"
   ]
  },
  {
   "cell_type": "code",
   "execution_count": 16,
   "metadata": {
    "ExecuteTime": {
     "end_time": "2021-08-30T13:31:11.620866Z",
     "start_time": "2021-08-30T13:31:11.521903Z"
    }
   },
   "outputs": [
    {
     "name": "stdout",
     "output_type": "stream",
     "text": [
      "Populating the interactive namespace from numpy and matplotlib\n"
     ]
    },
    {
     "name": "stderr",
     "output_type": "stream",
     "text": [
      "/home/fccoelho/Downloads/SageMath/local/lib/python3.9/site-packages/IPython/core/magics/pylab.py:159: UserWarning: pylab import has clobbered these variables: ['sin', 'lcm', 'flatten', 'mean', 'load', 'multinomial', 'plot', 'real', 'arctan2', 'power', 'trace', 'arrow', 'arccos', 'heaviside', 'log', 'piecewise', 'sqrt', 'binomial', 'hypergeometric', 'var', 'floor', 'Infinity', 'NaN', 'save', 'sign', 'shuffle', 'tan', 'arcsinh', 'median', 'gcd', 'laplace', 'table', 'product', 'transpose', 'beta', 'histogram', 'e', 'choice', 'colormaps', 'add', 'tanh', 'show', 'imag', 'mod', 'arctan', 'matrix', 'SU', 'diff', 'magma', 'cosh', 'copy', 'euler_gamma', 'pi', 'cos', 'std', 'text', 'gamma', 'arcsin', 'sum', 'sinh', 'random', 'conjugate', 'prod', 'exp', 'det', 'seed', 'loads', 'solve', 'randint', 'ceil', 'log2', 'arccosh', 'uniform', 'sample', 'norm', 'xkcd', 'arctanh']\n",
      "`%matplotlib` prevents importing * from pylab and numpy\n",
      "  warn(\"pylab import has clobbered these variables: %s\"  % clobbered +\n"
     ]
    },
    {
     "data": {
      "text/html": [
       "<html><script type=\"math/tex; mode=display\">\\newcommand{\\Bold}[1]{\\mathbf{#1}}\\verb|AxesSubplot(0.125,0.125;0.775x0.755)|</script></html>"
      ],
      "text/latex": [
       "$$\\newcommand{\\Bold}[1]{\\mathbf{#1}}\\verb|AxesSubplot(0.125,0.125;0.775x0.755)|$$"
      ],
      "text/plain": [
       "<AxesSubplot:>"
      ]
     },
     "execution_count": 16,
     "metadata": {},
     "output_type": "execute_result"
    },
    {
     "data": {
      "text/html": [
       "<html><script type=\"math/tex; mode=display\">\\newcommand{\\Bold}[1]{\\mathbf{#1}}\\verb|Figure(432x288)|</script></html>"
      ],
      "text/latex": [
       "$$\\newcommand{\\Bold}[1]{\\mathbf{#1}}\\verb|Figure(432x288)|$$"
      ],
      "text/plain": [
       "<Figure size 432x288 with 1 Axes>"
      ]
     },
     "metadata": {
      "needs_background": "light"
     },
     "output_type": "display_data"
    }
   ],
   "source": [
    "%pylab inline\n",
    "dfRJ['last_available_deaths'].plot()"
   ]
  },
  {
   "cell_type": "markdown",
   "metadata": {},
   "source": [
    "## Ajustando o Modelo aos dados\n",
    "Há muitas formas de se ajustar um modelo dinâmico aos dados disponíveis. Vamos começar por meio de otimização, buscando os valores de parâmetros que minimizam o desvio entre o modelo e os dados. O ajuste será feito simultaneamente para casos e mortes acumuladas. Abaixo vamos importar a biblioteca [Sherpa](https://parameter-sherpa.readthedocs.io/en/latest/gettingstarted/guide.html):"
   ]
  },
  {
   "cell_type": "code",
   "execution_count": 18,
   "metadata": {
    "ExecuteTime": {
     "end_time": "2021-08-30T13:39:37.916656Z",
     "start_time": "2021-08-30T13:37:48.830987Z"
    },
    "scrolled": true
   },
   "outputs": [
    {
     "name": "stdout",
     "output_type": "stream",
     "text": [
      "Collecting parameter-sherpa\n",
      "  Downloading parameter-sherpa-1.0.6.tar.gz (513 kB)\n",
      "\u001b[K     |████████████████████████████████| 513 kB 4.5 MB/s eta 0:00:01\n",
      "\u001b[?25hRequirement already satisfied: pandas>=0.20.3 in /home/fccoelho/Downloads/SageMath/local/lib/python3.9/site-packages (from parameter-sherpa) (1.3.1)\n",
      "Collecting pymongo>=3.5.1\n",
      "  Downloading pymongo-3.12.0-cp39-cp39-manylinux_2_17_x86_64.manylinux2014_x86_64.whl (531 kB)\n",
      "\u001b[K     |████████████████████████████████| 531 kB 7.4 MB/s eta 0:00:01\n",
      "\u001b[?25hRequirement already satisfied: numpy>=1.8.2 in /home/fccoelho/Downloads/SageMath/local/lib/python3.9/site-packages (from parameter-sherpa) (1.19.5)\n",
      "Requirement already satisfied: scipy>=1.0.0 in /home/fccoelho/Downloads/SageMath/local/lib/python3.9/site-packages (from parameter-sherpa) (1.5.4)\n",
      "Requirement already satisfied: scikit-learn>=0.19.1 in /home/fccoelho/Downloads/SageMath/local/lib/python3.9/site-packages (from parameter-sherpa) (0.24.2)\n",
      "Collecting flask>=0.12.2\n",
      "  Downloading Flask-2.0.1-py3-none-any.whl (94 kB)\n",
      "\u001b[K     |████████████████████████████████| 94 kB 2.8 MB/s  eta 0:00:01\n",
      "\u001b[?25hCollecting GPyOpt>=1.2.5\n",
      "  Downloading GPyOpt-1.2.6.tar.gz (56 kB)\n",
      "\u001b[K     |████████████████████████████████| 56 kB 4.8 MB/s  eta 0:00:01\n",
      "\u001b[?25hCollecting enum34\n",
      "  Downloading enum34-1.1.10-py3-none-any.whl (11 kB)\n",
      "Requirement already satisfied: matplotlib in /home/fccoelho/Downloads/SageMath/local/lib/python3.9/site-packages (from parameter-sherpa) (3.3.4)\n",
      "Collecting Jinja2>=3.0\n",
      "  Using cached Jinja2-3.0.1-py3-none-any.whl (133 kB)\n",
      "Collecting itsdangerous>=2.0\n",
      "  Downloading itsdangerous-2.0.1-py3-none-any.whl (18 kB)\n",
      "Requirement already satisfied: click>=7.1.2 in /home/fccoelho/Downloads/SageMath/local/lib/python3.9/site-packages (from flask>=0.12.2->parameter-sherpa) (8.0.1)\n",
      "Collecting Werkzeug>=2.0\n",
      "  Downloading Werkzeug-2.0.1-py3-none-any.whl (288 kB)\n",
      "\u001b[K     |████████████████████████████████| 288 kB 12.2 MB/s eta 0:00:01\n",
      "\u001b[?25hCollecting GPy>=1.8\n",
      "  Downloading GPy-1.10.0.tar.gz (959 kB)\n",
      "\u001b[K     |████████████████████████████████| 959 kB 12.8 MB/s eta 0:00:01\n",
      "\u001b[?25hRequirement already satisfied: six in /home/fccoelho/Downloads/SageMath/local/lib/python3.9/site-packages (from GPy>=1.8->GPyOpt>=1.2.5->parameter-sherpa) (1.15.0)\n",
      "Collecting paramz>=0.9.0\n",
      "  Downloading paramz-0.9.5.tar.gz (71 kB)\n",
      "\u001b[K     |████████████████████████████████| 71 kB 7.1 MB/s  eta 0:00:01\n",
      "\u001b[?25hRequirement already satisfied: cython>=0.29 in /home/fccoelho/Downloads/SageMath/local/lib/python3.9/site-packages (from GPy>=1.8->GPyOpt>=1.2.5->parameter-sherpa) (0.29.21)\n",
      "Collecting MarkupSafe>=2.0\n",
      "  Downloading MarkupSafe-2.0.1-cp39-cp39-manylinux_2_5_x86_64.manylinux1_x86_64.manylinux_2_12_x86_64.manylinux2010_x86_64.whl (30 kB)\n",
      "Requirement already satisfied: python-dateutil>=2.7.3 in /home/fccoelho/Downloads/SageMath/local/lib/python3.9/site-packages (from pandas>=0.20.3->parameter-sherpa) (2.8.0)\n",
      "Requirement already satisfied: pytz>=2017.3 in /home/fccoelho/Downloads/SageMath/local/lib/python3.9/site-packages (from pandas>=0.20.3->parameter-sherpa) (2020.4)\n",
      "Requirement already satisfied: decorator>=4.0.10 in /home/fccoelho/Downloads/SageMath/local/lib/python3.9/site-packages (from paramz>=0.9.0->GPy>=1.8->GPyOpt>=1.2.5->parameter-sherpa) (4.4.2)\n",
      "Requirement already satisfied: threadpoolctl>=2.0.0 in /home/fccoelho/Downloads/SageMath/local/lib/python3.9/site-packages (from scikit-learn>=0.19.1->parameter-sherpa) (2.2.0)\n",
      "Requirement already satisfied: joblib>=0.11 in /home/fccoelho/Downloads/SageMath/local/lib/python3.9/site-packages (from scikit-learn>=0.19.1->parameter-sherpa) (1.0.1)\n",
      "Requirement already satisfied: pillow>=6.2.0 in /home/fccoelho/Downloads/SageMath/local/lib/python3.9/site-packages (from matplotlib->parameter-sherpa) (8.1.2)\n",
      "Requirement already satisfied: kiwisolver>=1.0.1 in /home/fccoelho/Downloads/SageMath/local/lib/python3.9/site-packages (from matplotlib->parameter-sherpa) (1.0.1)\n",
      "Requirement already satisfied: pyparsing!=2.0.4,!=2.1.2,!=2.1.6,>=2.0.3 in /home/fccoelho/Downloads/SageMath/local/lib/python3.9/site-packages (from matplotlib->parameter-sherpa) (2.4.7)\n",
      "Requirement already satisfied: cycler>=0.10 in /home/fccoelho/Downloads/SageMath/local/lib/python3.9/site-packages (from matplotlib->parameter-sherpa) (0.10.0)\n",
      "Requirement already satisfied: setuptools in /home/fccoelho/Downloads/SageMath/local/lib/python3.9/site-packages (from kiwisolver>=1.0.1->matplotlib->parameter-sherpa) (51.1.1)\n",
      "Building wheels for collected packages: parameter-sherpa, GPyOpt, GPy, paramz\n",
      "  Building wheel for parameter-sherpa (setup.py) ... \u001b[?25ldone\n",
      "\u001b[?25h  Created wheel for parameter-sherpa: filename=parameter_sherpa-1.0.6-py2.py3-none-any.whl size=542118 sha256=8836fcef51a6e46b135b20539b48b4a7e87ce274b6bb8f630bf39378f80edbfd\n",
      "  Stored in directory: /home/fccoelho/.cache/pip/wheels/5e/e2/ac/eb3e175761289cb9a9c5d86045009b9e192ed0df15554f637d\n",
      "  Building wheel for GPyOpt (setup.py) ... \u001b[?25ldone\n",
      "\u001b[?25h  Created wheel for GPyOpt: filename=GPyOpt-1.2.6-py3-none-any.whl size=83621 sha256=173cc00fed6f5f8590501dafed53f5f21635365d0961027867aae75d14e8bddb\n",
      "  Stored in directory: /home/fccoelho/.cache/pip/wheels/11/b8/44/0282cdff2277bc12f04266de6f104099dec02411879a0ac19f\n",
      "  Building wheel for GPy (setup.py) ... \u001b[?25ldone\n",
      "\u001b[?25h  Created wheel for GPy: filename=GPy-1.10.0-cp39-cp39-linux_x86_64.whl size=3286527 sha256=7b5f179a6788cd0a1275f12e328eaaa1309580d1119e93858e863c88422f4bc4\n",
      "  Stored in directory: /home/fccoelho/.cache/pip/wheels/78/fd/57/7c1e4a6f9a5380e2536af9809075ba085b1bb8d38ee84ea183\n",
      "  Building wheel for paramz (setup.py) ... \u001b[?25ldone\n",
      "\u001b[?25h  Created wheel for paramz: filename=paramz-0.9.5-py3-none-any.whl size=102550 sha256=cb0e77e7644d17d8ea46d040c3b03b55de262e17a4fb8106b97b3cabc1efea73\n",
      "  Stored in directory: /home/fccoelho/.cache/pip/wheels/9c/5f/9b/c4273ae8f869387214be2b99598d1b71dbf00672576cb85e74\n",
      "Successfully built parameter-sherpa GPyOpt GPy paramz\n",
      "Installing collected packages: paramz, MarkupSafe, Werkzeug, Jinja2, itsdangerous, GPy, pymongo, GPyOpt, flask, enum34, parameter-sherpa\n",
      "  Attempting uninstall: MarkupSafe\n",
      "    Found existing installation: MarkupSafe 1.1.1\n",
      "    Uninstalling MarkupSafe-1.1.1:\n",
      "      Successfully uninstalled MarkupSafe-1.1.1\n",
      "  Attempting uninstall: Jinja2\n",
      "    Found existing installation: Jinja2 2.11.2\n",
      "    Uninstalling Jinja2-2.11.2:\n",
      "      Successfully uninstalled Jinja2-2.11.2\n",
      "Successfully installed GPy-1.10.0 GPyOpt-1.2.6 Jinja2-3.0.1 MarkupSafe-2.0.1 Werkzeug-2.0.1 enum34-1.1.10 flask-2.0.1 itsdangerous-2.0.1 parameter-sherpa-1.0.6 paramz-0.9.5 pymongo-3.12.0\n",
      "\u001b[33mWARNING: You are using pip version 21.0.1; however, version 21.2.4 is available.\n",
      "You should consider upgrading via the '/home/fccoelho/Downloads/SageMath/local/bin/python3 -m pip install --upgrade pip' command.\u001b[0m\n"
     ]
    }
   ],
   "source": [
    "!pip install parameter-sherpa"
   ]
  },
  {
   "cell_type": "code",
   "execution_count": 19,
   "metadata": {
    "ExecuteTime": {
     "end_time": "2021-08-30T13:39:46.073001Z",
     "start_time": "2021-08-30T13:39:43.968438Z"
    }
   },
   "outputs": [],
   "source": [
    "import sherpa"
   ]
  },
  {
   "cell_type": "markdown",
   "metadata": {},
   "source": [
    "Começamos por definir o tipo de variável de cada parâmetro, e o tipo de algoritmo de busca que utilizaremos."
   ]
  },
  {
   "cell_type": "code",
   "execution_count": 20,
   "metadata": {
    "ExecuteTime": {
     "end_time": "2021-08-30T13:39:49.814794Z",
     "start_time": "2021-08-30T13:39:49.797753Z"
    }
   },
   "outputs": [],
   "source": [
    "parameters = [\n",
    "    sherpa.Continuous(name='chi',range=[0,.3]),\n",
    "    sherpa.Continuous(name='phi',range=[0,1]),\n",
    "    sherpa.Continuous(name='beta',range=[0.1,2]),\n",
    "    sherpa.Continuous(name='rho',range=[0.2,1]),\n",
    "    sherpa.Continuous(name='delta',range=[0.01,1]),\n",
    "    sherpa.Continuous(name='gamma',range=[0.01,1]),\n",
    "    sherpa.Continuous(name='alpha',range=[0.01,1]),\n",
    "    sherpa.Continuous(name='mu',range=[0.01,.7]),\n",
    "    sherpa.Continuous(name='p',range=[0.01,.7]),\n",
    "    sherpa.Discrete(name='q',range=[1,30]),\n",
    "    sherpa.Discrete(name='r',range=[1,12]),\n",
    "    sherpa.Discrete(name='t0',range=[0,25]),\n",
    "]\n",
    "algorithm = sherpa.algorithms.RandomSearch(max_num_trials=1000)\n",
    "# algorithm = sherpa.algorithms.GPyOpt(model_type='GP',max_num_trials=150)"
   ]
  },
  {
   "cell_type": "code",
   "execution_count": 21,
   "metadata": {
    "ExecuteTime": {
     "end_time": "2021-08-30T13:39:52.090314Z",
     "start_time": "2021-08-30T13:39:52.085246Z"
    }
   },
   "outputs": [],
   "source": [
    "study = sherpa.Study(parameters=parameters,\n",
    "                     algorithm=algorithm,\n",
    "                     lower_is_better=True,\n",
    "                     disable_dashboard=True)\n"
   ]
  },
  {
   "cell_type": "markdown",
   "metadata": {},
   "source": [
    "Uma vez definido o problema (`study`) podemos gerar uma sugestão valores para ver como funciona:"
   ]
  },
  {
   "cell_type": "code",
   "execution_count": 22,
   "metadata": {
    "ExecuteTime": {
     "end_time": "2021-08-30T13:39:57.704200Z",
     "start_time": "2021-08-30T13:39:57.696080Z"
    }
   },
   "outputs": [
    {
     "data": {
      "text/html": [
       "<html><script type=\"math/tex; mode=display\">\\newcommand{\\Bold}[1]{\\mathbf{#1}}\\left\\{\\verb|chi| : 0.1887488212093366, \\verb|phi| : 0.9925373661131958, \\verb|beta| : 1.614573757551712, \\verb|rho| : 0.6625300058260497, \\verb|delta| : 0.04010778983837119, \\verb|gamma| : 0.3568153715500758, \\verb|alpha| : 0.9479689748530777, \\verb|mu| : 0.5450506816695394, \\verb|p| : 0.036451869566943795, \\verb|q| : 27, \\verb|r| : 6, \\verb|t0| : 11\\right\\}</script></html>"
      ],
      "text/latex": [
       "$$\\newcommand{\\Bold}[1]{\\mathbf{#1}}\\left\\{\\verb|chi| : 0.1887488212093366, \\verb|phi| : 0.9925373661131958, \\verb|beta| : 1.614573757551712, \\verb|rho| : 0.6625300058260497, \\verb|delta| : 0.04010778983837119, \\verb|gamma| : 0.3568153715500758, \\verb|alpha| : 0.9479689748530777, \\verb|mu| : 0.5450506816695394, \\verb|p| : 0.036451869566943795, \\verb|q| : 27, \\verb|r| : 6, \\verb|t0| : 11\\right\\}$$"
      ],
      "text/plain": [
       "{'chi': 0.1887488212093366,\n",
       " 'phi': 0.9925373661131958,\n",
       " 'beta': 1.614573757551712,\n",
       " 'rho': 0.6625300058260497,\n",
       " 'delta': 0.04010778983837119,\n",
       " 'gamma': 0.3568153715500758,\n",
       " 'alpha': 0.9479689748530777,\n",
       " 'mu': 0.5450506816695394,\n",
       " 'p': 0.036451869566943795,\n",
       " 'q': 27,\n",
       " 'r': 6,\n",
       " 't0': 11}"
      ]
     },
     "execution_count": 22,
     "metadata": {},
     "output_type": "execute_result"
    }
   ],
   "source": [
    "trial = study.get_suggestion()\n",
    "trial.parameters"
   ]
  },
  {
   "cell_type": "markdown",
   "metadata": {},
   "source": [
    "Então podemos executar a busca de parâmetros em um simples loop"
   ]
  },
  {
   "cell_type": "code",
   "execution_count": 23,
   "metadata": {
    "ExecuteTime": {
     "end_time": "2021-08-30T13:46:42.069607Z",
     "start_time": "2021-08-30T13:40:34.668546Z"
    },
    "scrolled": true
   },
   "outputs": [],
   "source": [
    "for trial in study:\n",
    "    pars = [trial.parameters[n] for n in ['chi', 'phi', 'beta', 'rho', 'delta', 'gamma', 'alpha', 'mu', 'p', 'q', 'r']]\n",
    "    t0 = trial.parameters['t0']\n",
    "    T.ode_solve(tspan, inits, num_points=200, params=pars)\n",
    "    sim = get_sim_array(T.solution)\n",
    "    H = sim[:ld+t0,-2]*popRJ\n",
    "    D = sim[:ld+t0,-1]*popRJ\n",
    "    loss = sum((dfRJ.last_available_confirmed-H[t0:t0+ld])**2) +sum((dfRJ.last_available_deaths-D[t0:t0+ld])**2)/2*ld\n",
    "    study.add_observation(trial=trial,\n",
    "                          objective=loss,\n",
    "                          )\n",
    "    study.finalize(trial)"
   ]
  },
  {
   "cell_type": "code",
   "execution_count": 24,
   "metadata": {
    "ExecuteTime": {
     "end_time": "2021-08-30T13:49:10.371838Z",
     "start_time": "2021-08-30T13:49:10.364024Z"
    }
   },
   "outputs": [
    {
     "data": {
      "text/html": [
       "<html><script type=\"math/tex; mode=display\">\\newcommand{\\Bold}[1]{\\mathbf{#1}}\\left\\{\\verb|Trial-ID| : 205, \\verb|Iteration| : 1, \\verb|alpha| : 0.33407088959159903, \\verb|beta| : 0.7218101031831018, \\verb|chi| : 0.28275078590092206, \\verb|delta| : 0.5279598942403859, \\verb|gamma| : 0.43148897610981546, \\verb|mu| : 0.028703917166081103, \\verb|p| : 0.391969947077701, \\verb|phi| : 0.0520090187281681, \\verb|q| : 24, \\verb|r| : 5, \\verb|rho| : 0.6129555191739372, \\verb|t0| : 1, \\verb|Objective| : 299577057497.646\\right\\}</script></html>"
      ],
      "text/latex": [
       "$$\\newcommand{\\Bold}[1]{\\mathbf{#1}}\\left\\{\\verb|Trial-ID| : 205, \\verb|Iteration| : 1, \\verb|alpha| : 0.33407088959159903, \\verb|beta| : 0.7218101031831018, \\verb|chi| : 0.28275078590092206, \\verb|delta| : 0.5279598942403859, \\verb|gamma| : 0.43148897610981546, \\verb|mu| : 0.028703917166081103, \\verb|p| : 0.391969947077701, \\verb|phi| : 0.0520090187281681, \\verb|q| : 24, \\verb|r| : 5, \\verb|rho| : 0.6129555191739372, \\verb|t0| : 1, \\verb|Objective| : 299577057497.646\\right\\}$$"
      ],
      "text/plain": [
       "{'Trial-ID': 205,\n",
       " 'Iteration': 1,\n",
       " 'alpha': 0.33407088959159903,\n",
       " 'beta': 0.7218101031831018,\n",
       " 'chi': 0.28275078590092206,\n",
       " 'delta': 0.5279598942403859,\n",
       " 'gamma': 0.43148897610981546,\n",
       " 'mu': 0.028703917166081103,\n",
       " 'p': 0.391969947077701,\n",
       " 'phi': 0.0520090187281681,\n",
       " 'q': 24,\n",
       " 'r': 5,\n",
       " 'rho': 0.6129555191739372,\n",
       " 't0': 1,\n",
       " 'Objective': 299577057497.646}"
      ]
     },
     "execution_count": 24,
     "metadata": {},
     "output_type": "execute_result"
    }
   ],
   "source": [
    "res = study.get_best_result()\n",
    "res"
   ]
  },
  {
   "cell_type": "code",
   "execution_count": 25,
   "metadata": {
    "ExecuteTime": {
     "end_time": "2021-08-30T13:50:10.952713Z",
     "start_time": "2021-08-30T13:50:10.943051Z"
    }
   },
   "outputs": [],
   "source": [
    "def plot_results(pars):\n",
    "    T.ode_solve(tspan, inits, num_points=200, params=list(pars[:-1]))\n",
    "    t0=pars[-1]\n",
    "    sim = get_sim_array(T.solution)*popRJ\n",
    "    h = list_plot(sim[:ld+t0,-2],color='red',legend_label='Cum. cases', plotjoined=True)\n",
    "    d = list_plot(sim[:ld+t0,-1],color='purple', legend_label='Cum. Deaths', plotjoined=True)\n",
    "    cc = list_plot(list(zip(range(t0,ld+t0),dfRJ.last_available_confirmed)), color='black',legend_label='cases (obs)')\n",
    "    cd = list_plot(list(zip(range(t0,ld+t0),dfRJ.last_available_deaths)), color='orange',legend_label='deaths(obs)')\n",
    "    show(h+d+cc+cd)"
   ]
  },
  {
   "cell_type": "code",
   "execution_count": 28,
   "metadata": {
    "ExecuteTime": {
     "end_time": "2021-08-30T13:51:17.292823Z",
     "start_time": "2021-08-30T13:51:16.991552Z"
    }
   },
   "outputs": [],
   "source": [
    "plot_results([res['chi'],\n",
    "              res['phi'],\n",
    "              res['beta'],\n",
    "              res['rho'],\n",
    "              res['delta'],\n",
    "              res['gamma'],\n",
    "              res['alpha'],\n",
    "              res['mu'],\n",
    "              res['p'],\n",
    "              res['q'],\n",
    "              res['r'],\n",
    "              res['t0']\n",
    "             ])"
   ]
  },
  {
   "cell_type": "markdown",
   "metadata": {},
   "source": [
    "# Passo a passo da segunda parte\n",
    "## Resultados\n",
    "### Ter o modelo pronto e adimensionalizado\n",
    "### Encontrar os equilíbrios: ELD (eq. livre de doença) EE (eq. endêmicos)\n",
    "### Por meio de metodo de linearização local, caracterizar as estabilidades dos equilíbrios\n",
    "### Calculo do RO. Analitico e depois substituir os valores para obter uma estimativa numérica.\n",
    "### Gerar simulações e compara com os dados. Descrevam a adequação do modelo para representar a epidemia no país escolhido\n",
    "### Análise de sensibilidade\n",
    "### Otimização dos parâmetros\n",
    "### Estimação bayesiana dos parâmetros.\n",
    "## Discussão\n",
    "### Contextualizar cada resultado\n",
    "### Discutir toda a análise feita de um ponto de vista geral defendendo a aplicabilidade e originalidade dos resultados obtidos. \n",
    "### Implicações do modelo para o controle da COVID\n",
    "## Conclusão\n",
    "\n",
    "Adicionalmente é necessário escrever um resumo, no início de artigo."
   ]
  },
  {
   "cell_type": "code",
   "execution_count": 13,
   "metadata": {},
   "outputs": [],
   "source": [
    "from scipy.interpolate import interp1d\n",
    "from matplotlib import pyplot as plt"
   ]
  },
  {
   "cell_type": "code",
   "execution_count": 17,
   "metadata": {},
   "outputs": [],
   "source": [
    "d = [2,6,5,3,8,7,0]\n",
    "f = interp1d(range(7),d,kind='quadratic')"
   ]
  },
  {
   "cell_type": "code",
   "execution_count": 19,
   "metadata": {},
   "outputs": [
    {
     "data": {
      "text/plain": [
       "[<matplotlib.lines.Line2D object at 0x7f62cf68d2e8>]"
      ]
     },
     "execution_count": 19,
     "metadata": {},
     "output_type": "execute_result"
    },
    {
     "data": {
      "image/png": "[encoded data removed]",
      "text/plain": [
       "<Figure size 432x288 with 1 Axes>"
      ]
     },
     "metadata": {},
     "output_type": "display_data"
    }
   ],
   "source": [
    "plt.plot(d, 'o')\n",
    "t2 = [0, 1, 1.5,2.5,3,3.1,6]\n",
    "plt.plot(t2,f(t2),'-*' )"
   ]
  },
  {
   "cell_type": "code",
   "execution_count": 12,
   "metadata": {},
   "outputs": [
    {
     "name": "stdout",
     "output_type": "stream",
     "text": [
      "verbose 0 (3797: plot.py, generate_plot_points) WARNING: When plotting, failed to evaluate function at 200 points.\n",
      "verbose 0 (3797: plot.py, generate_plot_points) Last error message: ''numpy.ndarray' object is not callable'\n"
     ]
    },
    {
     "name": "stderr",
     "output_type": "stream",
     "text": [
      "/home/fccoelho/Downloads/SageMath/local/lib/python3.7/site-packages/sage/plot/plot.py:2091: DeprecationWarning: elementwise comparison failed; this will raise an error in the future.\n",
      "  if funcs == []:\n",
      "/home/fccoelho/Downloads/SageMath/local/lib/python3.7/site-packages/sage/plot/graphics.py:2420: MatplotlibDeprecationWarning: \n",
      "The OldScalarFormatter class was deprecated in Matplotlib 3.3 and will be removed two minor releases later.\n",
      "  x_formatter = OldScalarFormatter()\n",
      "/home/fccoelho/Downloads/SageMath/local/lib/python3.7/site-packages/sage/plot/graphics.py:2445: MatplotlibDeprecationWarning: \n",
      "The OldScalarFormatter class was deprecated in Matplotlib 3.3 and will be removed two minor releases later.\n",
      "  y_formatter = OldScalarFormatter()\n"
     ]
    },
    {
     "data": {
      "image/png": "[encoded data removed]",
      "text/plain": [
       "Graphics object consisting of 0 graphics primitives"
      ]
     },
     "execution_count": 12,
     "metadata": {},
     "output_type": "execute_result"
    }
   ],
   "source": [
    "plot(f(t2))"
   ]
  },
  {
   "cell_type": "code",
   "execution_count": null,
   "metadata": {},
   "outputs": [],
   "source": []
  }
 ],
 "metadata": {
  "kernelspec": {
   "display_name": "SageMath 9.3",
   "language": "sage",
   "name": "sagemath"
  },
  "language_info": {
   "codemirror_mode": {
    "name": "ipython",
    "version": 3
   },
   "file_extension": ".py",
   "mimetype": "text/x-python",
   "name": "python",
   "nbconvert_exporter": "python",
   "pygments_lexer": "ipython3",
   "version": "3.9.2"
  },
  "latex_envs": {
   "LaTeX_envs_menu_present": true,
   "autoclose": false,
   "autocomplete": true,
   "bibliofile": "biblio.bib",
   "cite_by": "apalike",
   "current_citInitial": 1,
   "eqLabelWithNumbers": true,
   "eqNumInitial": 1,
   "hotkeys": {
    "equation": "Ctrl-E",
    "itemize": "Ctrl-I"
   },
   "labels_anchors": false,
   "latex_user_defs": false,
   "report_style_numbering": false,
   "user_envs_cfg": false
  },
  "toc": {
   "base_numbering": 1,
   "nav_menu": {},
   "number_sections": true,
   "sideBar": true,
   "skip_h1_title": false,
   "title_cell": "Table of Contents",
   "title_sidebar": "Contents",
   "toc_cell": false,
   "toc_position": {},
   "toc_section_display": true,
   "toc_window_display": false
  }
 },
 "nbformat": 4,
 "nbformat_minor": 2
}
