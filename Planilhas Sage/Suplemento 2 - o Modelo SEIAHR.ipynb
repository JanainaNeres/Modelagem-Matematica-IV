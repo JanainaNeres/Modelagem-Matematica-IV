{
 "cells": [
  {
   "cell_type": "markdown",
   "metadata": {},
   "source": [
    "# Combinando Modelos e dados: COVID-19\n",
    "\n",
    "Ao se modelar uma epidemia real, a concordância do modelo e os dados observados é de extrema importância.\n",
    "\n",
    "Neste Notebook vamos estudar o Modelo SEIAHR proposto para a COVID-19 por [Coelho et al](https://www.medrxiv.org/content/10.1101/2020.06.15.20132050v1). Neste modelo, temos os seguintes compartimentos:\n",
    "![diagrama](seiahr.jpg)\n",
    "\n",
    "Matemáticamente:\n",
    "$$\\begin{align}\n",
    "\\frac{dS}{dt}&=-\\lambda [(1-\\chi) S],\\\\\n",
    "\\frac{dE}{dt}&= \\lambda [(1-\\chi) S]-\\alpha E,\\\\\n",
    "\\frac{dI}{dt}&= (1-p)\\alpha E - \\delta I -\\phi I,\\\\\n",
    "\\frac{dA}{dt}&= p\\alpha E - \\gamma A,\\\\\n",
    "\\frac{dH}{dt}&= \\phi I -(\\rho+\\mu) H,\\\\\n",
    "\\frac{dR}{dt}&= \\delta I + \\rho H+\\gamma A,\n",
    "\\end{align}\n",
    "$$\n",
    "\n",
    "Para facilitar nosso trabalho com dados dentro do ambiente Sage, precisamos instalar o Pandas para isso\n",
    "em um terminal use o seguinte comando: \n",
    "```\n",
    "sage -sh\n",
    "```\n",
    "este comando iniciará uma subsessão do sage onde você poderá instalar o pandas com o comando usual:\n",
    "```\n",
    "pip install pandas\n",
    "pip install parameter-sherpa\n",
    "exit\n",
    "```\n",
    "o comando `exit` após a instalação visa sair da subsessão do Sage."
   ]
  },
  {
   "cell_type": "code",
   "execution_count": 22,
   "metadata": {},
   "outputs": [],
   "source": [
    "import numpy as np\n",
    "import pandas as pd\n",
    "%display typeset"
   ]
  },
  {
   "cell_type": "code",
   "execution_count": 23,
   "metadata": {},
   "outputs": [],
   "source": [
    "def model(t, y, params):\n",
    "    S, E, I, A, H, R, C, D = y\n",
    "    chi, phi, beta, rho, delta, gamma, alpha, mu, p, q, r = params\n",
    "    lamb = beta * (I + A)\n",
    "    # Turns on Quarantine on day q and off on day q+r\n",
    "    chi *= ((1 + np.tanh(t - q)) / 2) * ((1 - np.tanh(t - (q + r))) / 2)\n",
    "    return [\n",
    "        -lamb * ((1 - chi) * S),  # dS/dt\n",
    "        lamb * ((1 - chi) * S) - alpha * E,  # dE/dt\n",
    "        (1 - p) * alpha * E - delta * I - phi * I,  # dI/dt\n",
    "        p * alpha * E - gamma * A,\n",
    "        phi * I - (rho + mu) * H,  # dH/dt\n",
    "        delta * I + rho * H + gamma * A,  # dR/dt\n",
    "        phi * I,  # (1-p)*alpha*E+ p*alpha*E # Hospit. acumuladas\n",
    "        mu * H  # Morte acumuladas\n",
    "    ]           "
   ]
  },
  {
   "cell_type": "code",
   "execution_count": 35,
   "metadata": {},
   "outputs": [],
   "source": [
    "chi = .3\n",
    "phi = 0.012413633926076584\n",
    "beta = 0.27272459855759813\n",
    "rho = 0.2190519831830368\n",
    "delta = 0.04168480042146949\n",
    "gamma = 0.04\n",
    "alpha =  0.3413355572047603\n",
    "mu = 0.02359234606623134\n",
    "p = 0.7693029079871165\n",
    "q = 50\n",
    "r = 55"
   ]
  },
  {
   "cell_type": "code",
   "execution_count": 36,
   "metadata": {},
   "outputs": [],
   "source": [
    "T = ode_solver()\n",
    "T.function = model\n",
    "T.algorithm='rk8pd'\n",
    "inits = [.99, 0, 1e-4, 0, 0, 0, 0, 0]\n",
    "tspan = [0,200]\n",
    "T.ode_solve(tspan, inits, num_points=200, params=[chi,phi,beta,rho,delta,gamma,alpha,mu,p,q,r])"
   ]
  },
  {
   "cell_type": "code",
   "execution_count": 37,
   "metadata": {},
   "outputs": [
    {
     "data": {
      "text/html": [
       "<html><script type=\"math/tex; mode=display\">\\newcommand{\\Bold}[1]{\\mathbf{#1}}\\begin{array}{l}\n",
       "\\verb|[[9.90000000e-01|\\phantom{\\verb!x!}\\verb|0.00000000e+00|\\phantom{\\verb!x!}\\verb|1.00000000e-04|\\phantom{\\verb!x!}\\verb|...|\\phantom{\\verb!x!}\\verb|0.00000000e+00|\\\\\n",
       "\\phantom{\\verb!xx!}\\verb|0.00000000e+00|\\phantom{\\verb!x!}\\verb|0.00000000e+00]|\\\\\n",
       "\\phantom{\\verb!x!}\\verb|[9.89973344e-01|\\phantom{\\verb!x!}\\verb|2.25755111e-05|\\phantom{\\verb!x!}\\verb|9.56580086e-05|\\phantom{\\verb!x!}\\verb|...|\\phantom{\\verb!x!}\\verb|4.23720621e-06|\\\\\n",
       "\\phantom{\\verb!xx!}\\verb|1.21233870e-06|\\phantom{\\verb!x!}\\verb|1.33047275e-08]|\\\\\n",
       "\\phantom{\\verb!x!}\\verb|[9.89946090e-01|\\phantom{\\verb!x!}\\verb|3.91711356e-05|\\phantom{\\verb!x!}\\verb|9.30197071e-05|\\phantom{\\verb!x!}\\verb|...|\\phantom{\\verb!x!}\\verb|8.76177490e-06|\\\\\n",
       "\\phantom{\\verb!xx!}\\verb|2.38193156e-06|\\phantom{\\verb!x!}\\verb|4.86367287e-08]|\\\\\n",
       "\\phantom{\\verb!x!}\\verb|...|\\\\\n",
       "\\phantom{\\verb!x!}\\verb|[7.05921911e-03|\\phantom{\\verb!x!}\\verb|4.50726801e-05|\\phantom{\\verb!x!}\\verb|5.18874882e-04|\\phantom{\\verb!x!}\\verb|...|\\phantom{\\verb!x!}\\verb|9.70886461e-01|\\\\\n",
       "\\phantom{\\verb!xx!}\\verb|5.19350779e-02|\\phantom{\\verb!x!}\\verb|5.04644718e-03]|\\\\\n",
       "\\phantom{\\verb!x!}\\verb|[7.04595718e-03|\\phantom{\\verb!x!}\\verb|4.32611015e-05|\\phantom{\\verb!x!}\\verb|4.94934735e-04|\\phantom{\\verb!x!}\\verb|...|\\phantom{\\verb!x!}\\verb|9.71170175e-01|\\\\\n",
       "\\phantom{\\verb!xx!}\\verb|5.19413692e-02|\\phantom{\\verb!x!}\\verb|5.04720754e-03]|\\\\\n",
       "\\phantom{\\verb!x!}\\verb|[7.03322409e-03|\\phantom{\\verb!x!}\\verb|4.15259091e-05|\\phantom{\\verb!x!}\\verb|4.72119417e-04|\\phantom{\\verb!x!}\\verb|...|\\phantom{\\verb!x!}\\verb|9.71443013e-01|\\\\\n",
       "\\phantom{\\verb!xx!}\\verb|5.19473704e-02|\\phantom{\\verb!x!}\\verb|5.04793268e-03]]|\n",
       "\\end{array}</script></html>"
      ],
      "text/plain": [
       "array([[9.90000000e-01, 0.00000000e+00, 1.00000000e-04, ...,\n",
       "        0.00000000e+00, 0.00000000e+00, 0.00000000e+00],\n",
       "       [9.89973344e-01, 2.25755111e-05, 9.56580086e-05, ...,\n",
       "        4.23720621e-06, 1.21233870e-06, 1.33047275e-08],\n",
       "       [9.89946090e-01, 3.91711356e-05, 9.30197071e-05, ...,\n",
       "        8.76177490e-06, 2.38193156e-06, 4.86367287e-08],\n",
       "       ...,\n",
       "       [7.05921911e-03, 4.50726801e-05, 5.18874882e-04, ...,\n",
       "        9.70886461e-01, 5.19350779e-02, 5.04644718e-03],\n",
       "       [7.04595718e-03, 4.32611015e-05, 4.94934735e-04, ...,\n",
       "        9.71170175e-01, 5.19413692e-02, 5.04720754e-03],\n",
       "       [7.03322409e-03, 4.15259091e-05, 4.72119417e-04, ...,\n",
       "        9.71443013e-01, 5.19473704e-02, 5.04793268e-03]])"
      ]
     },
     "execution_count": 37,
     "metadata": {},
     "output_type": "execute_result"
    }
   ],
   "source": [
    "def get_sim_array(sol):\n",
    "    sim = np.array([y for t,y in sol])\n",
    "    return sim\n",
    "get_sim_array(T.solution)"
   ]
  },
  {
   "cell_type": "code",
   "execution_count": 38,
   "metadata": {},
   "outputs": [
    {
     "data": {
      "image/png": "[encoded data removed]",
      "text/plain": [
       "Graphics object consisting of 8 graphics primitives"
      ]
     },
     "metadata": {},
     "output_type": "display_data"
    }
   ],
   "source": [
    "popRJ = 6.32e6\n",
    "def plot_sol(sol):\n",
    "    sim = get_sim_array(sol)*popRJ\n",
    "    P = list_plot(sim[:,0],legend_label='S')\n",
    "    colors = ['blue','red','pink','green','yellow','orange','black','purple']\n",
    "    for i,var in enumerate(['E','I','A','H','R','C','D']):\n",
    "        P += list_plot(sim[:,i+1],color=colors[i+1],legend_label=var)\n",
    "   \n",
    "    show(P)\n",
    "plot_sol(T.solution)"
   ]
  },
  {
   "cell_type": "code",
   "execution_count": 39,
   "metadata": {},
   "outputs": [
    {
     "data": {
      "text/html": [
       "<html><script type=\"math/tex; mode=display\">\\newcommand{\\Bold}[1]{\\mathbf{#1}}328307.38107624033</script></html>"
      ],
      "text/plain": [
       "328307.38107624033"
      ]
     },
     "execution_count": 39,
     "metadata": {},
     "output_type": "execute_result"
    }
   ],
   "source": [
    "sims = get_sim_array(T.solution)\n",
    "sims[-1,-2]*popRJ"
   ]
  },
  {
   "cell_type": "markdown",
   "metadata": {},
   "source": [
    "## Obtendo os dados\n",
    "Os dados usados aqui foram obtidos do site [Brasil.io](https://brasil.io). Apenas os dados do estado do Rio de Janeiro foram extraídos e salvos em um CSV. "
   ]
  },
  {
   "cell_type": "code",
   "execution_count": 40,
   "metadata": {},
   "outputs": [],
   "source": [
    "def load_data(state):\n",
    "    df = pd.read_csv(f'dados_{state}.csv')\n",
    "    df['data'] = pd.to_datetime(df.data)\n",
    "#     df.set_index('data', inplace=True)\n",
    "    return df"
   ]
  },
  {
   "cell_type": "code",
   "execution_count": 41,
   "metadata": {
    "scrolled": false
   },
   "outputs": [
    {
     "data": {
      "text/html": [
       "<table border=\"1\" class=\"dataframe\">\n",
       "  <thead>\n",
       "    <tr style=\"text-align: right;\">\n",
       "      <th></th>\n",
       "      <th>data</th>\n",
       "      <th>date</th>\n",
       "      <th>last_available_confirmed</th>\n",
       "      <th>last_available_deaths</th>\n",
       "      <th>incidencia_casos</th>\n",
       "      <th>incidencia_morte</th>\n",
       "      <th>ew</th>\n",
       "    </tr>\n",
       "  </thead>\n",
       "  <tbody>\n",
       "    <tr>\n",
       "      <th>170</th>\n",
       "      <td>2020-08-22</td>\n",
       "      <td>2020-08-22</td>\n",
       "      <td>210464</td>\n",
       "      <td>15267</td>\n",
       "      <td>65.0</td>\n",
       "      <td>3428.0</td>\n",
       "      <td>34</td>\n",
       "    </tr>\n",
       "    <tr>\n",
       "      <th>171</th>\n",
       "      <td>2020-08-23</td>\n",
       "      <td>2020-08-23</td>\n",
       "      <td>210948</td>\n",
       "      <td>15292</td>\n",
       "      <td>25.0</td>\n",
       "      <td>484.0</td>\n",
       "      <td>35</td>\n",
       "    </tr>\n",
       "    <tr>\n",
       "      <th>172</th>\n",
       "      <td>2020-08-24</td>\n",
       "      <td>2020-08-24</td>\n",
       "      <td>211360</td>\n",
       "      <td>15392</td>\n",
       "      <td>100.0</td>\n",
       "      <td>412.0</td>\n",
       "      <td>35</td>\n",
       "    </tr>\n",
       "    <tr>\n",
       "      <th>173</th>\n",
       "      <td>2020-08-25</td>\n",
       "      <td>2020-08-25</td>\n",
       "      <td>214003</td>\n",
       "      <td>15560</td>\n",
       "      <td>168.0</td>\n",
       "      <td>2643.0</td>\n",
       "      <td>35</td>\n",
       "    </tr>\n",
       "    <tr>\n",
       "      <th>174</th>\n",
       "      <td>2020-08-26</td>\n",
       "      <td>2020-08-26</td>\n",
       "      <td>214003</td>\n",
       "      <td>15560</td>\n",
       "      <td>0.0</td>\n",
       "      <td>0.0</td>\n",
       "      <td>35</td>\n",
       "    </tr>\n",
       "  </tbody>\n",
       "</table>"
      ],
      "text/plain": [
       "<table border=\"1\" class=\"dataframe\">\n",
       "  <thead>\n",
       "    <tr style=\"text-align: right;\">\n",
       "      <th></th>\n",
       "      <th>data</th>\n",
       "      <th>date</th>\n",
       "      <th>last_available_confirmed</th>\n",
       "      <th>last_available_deaths</th>\n",
       "      <th>incidencia_casos</th>\n",
       "      <th>incidencia_morte</th>\n",
       "      <th>ew</th>\n",
       "    </tr>\n",
       "  </thead>\n",
       "  <tbody>\n",
       "    <tr>\n",
       "      <th>170</th>\n",
       "      <td>2020-08-22</td>\n",
       "      <td>2020-08-22</td>\n",
       "      <td>210464</td>\n",
       "      <td>15267</td>\n",
       "      <td>65.0</td>\n",
       "      <td>3428.0</td>\n",
       "      <td>34</td>\n",
       "    </tr>\n",
       "    <tr>\n",
       "      <th>171</th>\n",
       "      <td>2020-08-23</td>\n",
       "      <td>2020-08-23</td>\n",
       "      <td>210948</td>\n",
       "      <td>15292</td>\n",
       "      <td>25.0</td>\n",
       "      <td>484.0</td>\n",
       "      <td>35</td>\n",
       "    </tr>\n",
       "    <tr>\n",
       "      <th>172</th>\n",
       "      <td>2020-08-24</td>\n",
       "      <td>2020-08-24</td>\n",
       "      <td>211360</td>\n",
       "      <td>15392</td>\n",
       "      <td>100.0</td>\n",
       "      <td>412.0</td>\n",
       "      <td>35</td>\n",
       "    </tr>\n",
       "    <tr>\n",
       "      <th>173</th>\n",
       "      <td>2020-08-25</td>\n",
       "      <td>2020-08-25</td>\n",
       "      <td>214003</td>\n",
       "      <td>15560</td>\n",
       "      <td>168.0</td>\n",
       "      <td>2643.0</td>\n",
       "      <td>35</td>\n",
       "    </tr>\n",
       "    <tr>\n",
       "      <th>174</th>\n",
       "      <td>2020-08-26</td>\n",
       "      <td>2020-08-26</td>\n",
       "      <td>214003</td>\n",
       "      <td>15560</td>\n",
       "      <td>0.0</td>\n",
       "      <td>0.0</td>\n",
       "      <td>35</td>\n",
       "    </tr>\n",
       "  </tbody>\n",
       "</table>"
      ]
     },
     "execution_count": 41,
     "metadata": {},
     "output_type": "execute_result"
    }
   ],
   "source": [
    "dfRJ = load_data('RJ')\n",
    "ld = len(dfRJ)\n",
    "html(dfRJ.tail().to_html())"
   ]
  },
  {
   "cell_type": "code",
   "execution_count": 42,
   "metadata": {},
   "outputs": [
    {
     "data": {
      "text/html": [
       "<html><script type=\"math/tex; mode=display\">\\newcommand{\\Bold}[1]{\\mathbf{#1}}\\verb|AxesSubplot(0.125,0.125;0.775x0.755)|</script></html>"
      ],
      "text/plain": [
       "<matplotlib.axes._subplots.AxesSubplot object at 0x7f61f23d96d8>"
      ]
     },
     "execution_count": 42,
     "metadata": {},
     "output_type": "execute_result"
    },
    {
     "data": {
      "image/png": "[encoded data removed]",
      "text/plain": [
       "<Figure size 432x288 with 1 Axes>"
      ]
     },
     "metadata": {},
     "output_type": "display_data"
    }
   ],
   "source": [
    "subnot=1\n",
    "dfRJ.set_index('data')[['last_available_confirmed','last_available_deaths']].plot()\n",
    "#dfRJ.set_index('data')['last-available-deaths'].plot()"
   ]
  },
  {
   "cell_type": "markdown",
   "metadata": {},
   "source": [
    "## Ajustando o Modelo aos dados\n",
    "Há muitas formas de se ajustar um modelo dinâmico aos dados disponíveis. Vamos começar por meio de otimização, buscando os valores de parâmetros que minimizam o desvio entre o modelo e os dados. O ajuste será feito simultaneamente para casos e mortes acumuladas. Abaixo vamos importar a biblioteca [Sherpa](https://parameter-sherpa.readthedocs.io/en/latest/gettingstarted/guide.html):"
   ]
  },
  {
   "cell_type": "code",
   "execution_count": 44,
   "metadata": {},
   "outputs": [],
   "source": [
    "import sherpa"
   ]
  },
  {
   "cell_type": "markdown",
   "metadata": {},
   "source": [
    "Começamos por definir o tipo de variável de cada parâmetro, e o tipo de algoritmo de busca que utilizaremos."
   ]
  },
  {
   "cell_type": "code",
   "execution_count": 97,
   "metadata": {},
   "outputs": [],
   "source": [
    "parameters = [\n",
    "    sherpa.Continuous(name='chi',range=[0,.3]),\n",
    "    sherpa.Continuous(name='phi',range=[0,1]),\n",
    "    sherpa.Continuous(name='beta',range=[0.1,2]),\n",
    "    sherpa.Continuous(name='rho',range=[0.2,1]),\n",
    "    sherpa.Continuous(name='delta',range=[0.01,1]),\n",
    "    sherpa.Continuous(name='gamma',range=[0.01,1]),\n",
    "    sherpa.Continuous(name='alpha',range=[0.01,1]),\n",
    "    sherpa.Continuous(name='mu',range=[0.01,.7]),\n",
    "    sherpa.Continuous(name='p',range=[0.01,.7]),\n",
    "    sherpa.Discrete(name='q',range=[1,30]),\n",
    "    sherpa.Discrete(name='r',range=[1,12]),\n",
    "    sherpa.Discrete(name='t0',range=[0,25]),\n",
    "]\n",
    "algorithm = sherpa.algorithms.RandomSearch(max_num_trials=1000)\n",
    "# algorithm = sherpa.algorithms.GPyOpt(model_type='GP',max_num_trials=150)"
   ]
  },
  {
   "cell_type": "code",
   "execution_count": 98,
   "metadata": {},
   "outputs": [],
   "source": [
    "study = sherpa.Study(parameters=parameters,\n",
    "                     algorithm=algorithm,\n",
    "                     lower_is_better=True,\n",
    "                     disable_dashboard=True)\n"
   ]
  },
  {
   "cell_type": "markdown",
   "metadata": {},
   "source": [
    "Uma vez definido o problema (`study`) podemos gerar uma sugestão valores para ver como funciona:"
   ]
  },
  {
   "cell_type": "code",
   "execution_count": 99,
   "metadata": {},
   "outputs": [
    {
     "data": {
      "text/html": [
       "<html><script type=\"math/tex; mode=display\">\\newcommand{\\Bold}[1]{\\mathbf{#1}}\\left\\{\\verb|chi| : 0.23368286764639207, \\verb|phi| : 0.8119516755889445, \\verb|beta| : 1.0319439601097884, \\verb|rho| : 0.2595434423167018, \\verb|delta| : 0.8353324894580054, \\verb|gamma| : 0.5864727696071707, \\verb|alpha| : 0.32720911380290574, \\verb|mu| : 0.11882826845623522, \\verb|p| : 0.5158678412879205, \\verb|q| : 4, \\verb|r| : 5, \\verb|t0| : 2\\right\\}</script></html>"
      ],
      "text/plain": [
       "{'chi': 0.23368286764639207,\n",
       " 'phi': 0.8119516755889445,\n",
       " 'beta': 1.0319439601097884,\n",
       " 'rho': 0.2595434423167018,\n",
       " 'delta': 0.8353324894580054,\n",
       " 'gamma': 0.5864727696071707,\n",
       " 'alpha': 0.32720911380290574,\n",
       " 'mu': 0.11882826845623522,\n",
       " 'p': 0.5158678412879205,\n",
       " 'q': 4,\n",
       " 'r': 5,\n",
       " 't0': 2}"
      ]
     },
     "execution_count": 99,
     "metadata": {},
     "output_type": "execute_result"
    }
   ],
   "source": [
    "trial = study.get_suggestion()\n",
    "trial.parameters"
   ]
  },
  {
   "cell_type": "markdown",
   "metadata": {},
   "source": [
    "Então podemos executar a busca de parâmetros em um simples loop"
   ]
  },
  {
   "cell_type": "code",
   "execution_count": 100,
   "metadata": {
    "scrolled": true
   },
   "outputs": [],
   "source": [
    "for trial in study:\n",
    "    pars = [trial.parameters[n] for n in ['chi', 'phi', 'beta', 'rho', 'delta', 'gamma', 'alpha', 'mu', 'p', 'q', 'r']]\n",
    "    t0 = trial.parameters['t0']\n",
    "    T.ode_solve(tspan, inits, num_points=200, params=pars)\n",
    "    sim = get_sim_array(T.solution)\n",
    "    H = sim[:ld+t0,-2]*popRJ\n",
    "    D = sim[:ld+t0,-1]*popRJ\n",
    "    loss = sum((dfRJ.last_available_confirmed-H[t0:t0+ld])**2) +sum((dfRJ.last_available_deaths-D[t0:t0+ld])**2)/2*ld\n",
    "    study.add_observation(trial=trial,\n",
    "                          objective=loss,\n",
    "                          )\n",
    "    study.finalize(trial)"
   ]
  },
  {
   "cell_type": "code",
   "execution_count": 101,
   "metadata": {},
   "outputs": [
    {
     "data": {
      "text/html": [
       "<html><script type=\"math/tex; mode=display\">\\newcommand{\\Bold}[1]{\\mathbf{#1}}\\left\\{\\verb|Trial-ID| : 565, \\verb|Iteration| : 1, \\verb|alpha| : 0.39844829548134364, \\verb|beta| : 1.0693632980850178, \\verb|chi| : 0.21501185995444017, \\verb|delta| : 0.8268717740088117, \\verb|gamma| : 0.7337334818039278, \\verb|mu| : 0.17495987609300237, \\verb|p| : 0.6955495718112924, \\verb|phi| : 0.0962650060760134, \\verb|q| : 17, \\verb|r| : 10, \\verb|rho| : 0.8248709048489531, \\verb|t0| : 12, \\verb|Objective| : 471373926841.18994\\right\\}</script></html>"
      ],
      "text/plain": [
       "{'Trial-ID': 565,\n",
       " 'Iteration': 1,\n",
       " 'alpha': 0.39844829548134364,\n",
       " 'beta': 1.0693632980850178,\n",
       " 'chi': 0.21501185995444017,\n",
       " 'delta': 0.8268717740088117,\n",
       " 'gamma': 0.7337334818039278,\n",
       " 'mu': 0.17495987609300237,\n",
       " 'p': 0.6955495718112924,\n",
       " 'phi': 0.0962650060760134,\n",
       " 'q': 17,\n",
       " 'r': 10,\n",
       " 'rho': 0.8248709048489531,\n",
       " 't0': 12,\n",
       " 'Objective': 471373926841.18994}"
      ]
     },
     "execution_count": 101,
     "metadata": {},
     "output_type": "execute_result"
    }
   ],
   "source": [
    "res = study.get_best_result()\n",
    "res"
   ]
  },
  {
   "cell_type": "code",
   "execution_count": 102,
   "metadata": {},
   "outputs": [],
   "source": [
    "def plot_results(pars):\n",
    "    T.ode_solve(tspan, inits, num_points=200, params=list(pars[:-1]))\n",
    "    t0=pars[-1]\n",
    "    sim = get_sim_array(T.solution)*popRJ\n",
    "    h = list_plot(sim[:ld+t0,-2],color='red',legend_label='Cum. cases', plotjoined=True)\n",
    "    d = list_plot(sim[:ld+t0,-1],color='purple', legend_label='Cum. Deaths', plotjoined=True)\n",
    "    cc = list_plot(list(zip(range(t0,ld+t0),dfRJ.last_available_confirmed)), color='black',legend_label='cases (obs)')\n",
    "    cd = list_plot(list(zip(range(t0,ld+t0),dfRJ.last_available_deaths)), color='orange',legend_label='deaths(obs)')\n",
    "    show(h+d+cc+cd)"
   ]
  },
  {
   "cell_type": "code",
   "execution_count": 103,
   "metadata": {},
   "outputs": [
    {
     "data": {
      "image/png": "[encoded data removed]",
      "text/plain": [
       "Graphics object consisting of 4 graphics primitives"
      ]
     },
     "metadata": {},
     "output_type": "display_data"
    }
   ],
   "source": [
    "plot_results([res['chi'],\n",
    "              res['phi'],\n",
    "              res['beta'],\n",
    "              res['rho'],\n",
    "              res['delta'],\n",
    "              res['gamma'],\n",
    "              res['alpha'],\n",
    "              res['mu'],\n",
    "              res['p'],\n",
    "              res['q'],\n",
    "              res['r'],\n",
    "              res['t0']\n",
    "             ])"
   ]
  },
  {
   "cell_type": "code",
   "execution_count": null,
   "metadata": {},
   "outputs": [],
   "source": []
  }
 ],
 "metadata": {
  "kernelspec": {
   "display_name": "SageMath 9.1",
   "language": "sage",
   "name": "sagemath"
  },
  "language_info": {
   "codemirror_mode": {
    "name": "ipython",
    "version": 3
   },
   "file_extension": ".py",
   "mimetype": "text/x-python",
   "name": "python",
   "nbconvert_exporter": "python",
   "pygments_lexer": "ipython3",
   "version": "3.7.3"
  }
 },
 "nbformat": 4,
 "nbformat_minor": 2
}
