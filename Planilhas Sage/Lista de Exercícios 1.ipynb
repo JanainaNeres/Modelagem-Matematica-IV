{
 "cells": [
  {
   "cell_type": "markdown",
   "metadata": {},
   "source": [
    "# 1ª Lista de Exercícios\n",
    "## Cinética Química\n",
    "Neste exercícios vamos construir modelos, resolvê-los analitica e numéricamente, e discutir a estabilidade dos seus equilíbrios.\n",
    "\n",
    "**I.** Considere a equação de produção e decaimento introduzida acima. Em biologia celular, é comum a produção  por tempo limitado, de uma molécular como resposta a um estimulo nervoso ou hormonal.\n",
    "\n",
    " 1. Modifique o modelo de Produção  e decaimento de forma que $I$ seja positivo apenas entre os tempos $t=4$ e $t=10$. Dica: Use a função de [Heaviside](https://pt.wikipedia.org/wiki/Fun%C3%A7%C3%A3o_de_Heaviside) mostrada abaixo.\n",
    " 1. Como você escreveria o modelo resultante em notação matemática?\n",
    " 1. Resolva o modelo e discuta o seu equilíbrio.\n",
    " 1. Verifique se o equilíbrio do modelo depende da sua condição inicial, x(0)"
   ]
  },
  {
   "cell_type": "code",
   "execution_count": 1,
   "metadata": {},
   "outputs": [],
   "source": [
    "heaviside?"
   ]
  },
  {
   "cell_type": "markdown",
   "metadata": {},
   "source": [
    "**II.** Uma substância com meia-vida de um dia é produzida a uma taxa constante de $10μMh^{−1}$. Suponha que a sua concentração seja denotada por $C(t)$. \n",
    "\n",
    " 1. Use uma equação diferencial para descrever a dinâmica deste processo. Usando o Sage encontre a solução deste modelo analíticamente.\n",
    " 2. Se um inibidor for aplicado em $t=0$, de forma que a substância não seja mais produzida. Encontre a solução $C(t)$ e a use para mostrar the $C(t)→0$ quando $t→∞$\n",
    " 3. Suponha agora que começando de $C(0)=C_0$, aplica-se uma droga que inibe o decaimento da substância completamente, sem afetar a sua taxa de produção. Mostre que a substância se acumulará a uma taxa linear $C(t)=C_0+kt$ e encontre o valor de $k$."
   ]
  },
  {
   "cell_type": "code",
   "execution_count": null,
   "metadata": {},
   "outputs": [],
   "source": []
  },
  {
   "cell_type": "markdown",
   "metadata": {},
   "source": [
    "**III.** Imagine dois tanques de reação $T$ e $U$, que se comunicam com fluxos $k_1=k_2$ A substância $A$ é introduzida no tanque $T$ a uma taxa constante $I$ e a substância $B$ é introduzida no tanque $U$ a um taxa constante $J$. A substância $B$ decai a uma taxa $\\gamma_2$ apenas no tanque $T$ enquanto que a substância $A$ decai a uma taxa $\\gamma_1$, apenas no tanque $U$.\n",
    "\n",
    "1. Escreva um sistema de equações diferenciais descrevendo a evolução temporal das duas substâncias em cada um dos Tanques\n",
    "1. Resolva o sistema analíticamente, usando o Sage. e discuta os equilíbrios e sua estabilidade.\n",
    "1. Apresente a evolução da solução em um campo vetorial\n",
    "1. Resolva numericamente o sistema no Sage\n",
    "1. Assuma que $I=sen(t)$, encontre a nova solução do sistema e seu(s) equilibrio(s)\n",
    "1. Assuma que a produção $J$ de $B$ é inibida pela  concentração de $A$ no tanque $U$, e vice-versa: $A$ produção $I$ de $A$ é inibida pela Concentração de $B$ no tanque $T$. Encontre a solução do sistema e analise os seus equilíbrios."
   ]
  },
  {
   "cell_type": "code",
   "execution_count": null,
   "metadata": {},
   "outputs": [],
   "source": []
  },
  {
   "cell_type": "markdown",
   "metadata": {},
   "source": [
    "## Análise Dimensional e Adimensionalização\n",
    "**IV.** Considere o seguinte modelo de crescimento populacional: $dN/dt=rN$, onde $N(0)=N_0>0$ e $r>0$. Neste modelo $r$ é a taxa de crescimento e $N_0$ é a população inicial. Lembre-se que a solução deste modelo é $N(t)=N_0 e^{rt}$.\n",
    "\n",
    "1. Re-escale este modelo em unidades da população inicial, ou seja, defina $y(t)=N(t)/N_0$. Qual a equação resultante e quais as condições iniciais correspondentes?\n",
    "1. Quais as unidades de $r$?\n",
    "1. Qual o \"tempo de duplicação\" desta população? isto é o tempo $τ$ para o qual $y(τ)=yN_0$.\n",
    "1. Mostre que é possivel definir um tempo adimensional $s$ tal que o modelo se transforme em $dy/ds=y$, $y(0)=1$."
   ]
  },
  {
   "cell_type": "code",
   "execution_count": null,
   "metadata": {},
   "outputs": [],
   "source": []
  },
  {
   "cell_type": "markdown",
   "metadata": {},
   "source": [
    "<h4>V - Considere a seguinte equa&ccedil;&atilde;o para o crescimento de uma &uacute;nica esp&eacute;cie de organismo:</h4>\n",
    "<p>$$\\frac{dP}{dt}=\\frac{v P}{K+P}-\\mu P$$</p>\n",
    "<ol style=\"list-style-type: lower-alpha;\">\n",
    "<li>Interprete o que estas equa&ccedil;&otilde;es est&atilde;o dizendo</li>\n",
    "<li>defina $x=P / Q$ e $s=t/\\tau$ onde $Q$, $\\tau$ s&atilde;o escalas a serem escolhidas. Converta a equa&ccedil;&atilde;o para uma forma adimensional em termos destas novas escalas.</li>\n",
    "<li>Qual seria uma escolha razo&aacute;vel para $Q$? e para $\\tau$?</li>\n",
    "</ol>\n",
    "<p><strong>Solu&ccedil;&atilde;o</strong>:</p>"
   ]
  },
  {
   "cell_type": "code",
   "execution_count": null,
   "metadata": {},
   "outputs": [],
   "source": []
  },
  {
   "cell_type": "markdown",
   "metadata": {},
   "source": [
    "<h4>VI. A din&acirc;mica da lagarta do pinheiro pode ser descrita pelo modelo proposto por Ludwig, Jones e Holling. Este inseto se reproduz e &eacute; predado por p&aacute;ssaros.</h4>\n",
    "<p>$$\\frac{dB}{dt} = r_B B \\left(1-\\frac{B}{K_B}\\right) - \\beta \\frac{B^2}{\\alpha^2 + B^2}$$</p>\n",
    "<ol style=\"list-style-type: lower-alpha;\">\n",
    "<li>Explique o significado dos termos desta equa&ccedil;&atilde;o</li>\n",
    "<li>Re-escreva esta equa&ccedil;&atilde;o em forma adimensional. H&aacute; duas escolhas de escalas para a densidade de da lagarta e duas para o tempo.</li>\n",
    "</ol>"
   ]
  },
  {
   "cell_type": "code",
   "execution_count": null,
   "metadata": {},
   "outputs": [],
   "source": []
  },
  {
   "cell_type": "markdown",
   "metadata": {},
   "source": [
    "<h2>Potencial de A&ccedil;&atilde;o</h2>\n",
    "<h4>VII - Considere uma simplifica&ccedil;&atilde;o do modelo de Hodgkin-Huxley, na qual o valores de $n$ e $h$ s&atilde;o fixos em seus valores de repouso.</h4>\n",
    "<p>$$\\frac{dV}{dt}=- \\left(g_{Na} m^3 h(V-V_{Na})+g_K n^4 (V-V_K) + g_L(V-V_L) \\right) + I,$$</p>\n",
    "<p>$$\\frac{dm}{dt} = -\\alpha_{m} V m + \\beta_m V (1-m)$$</p>\n",
    "<ol style=\"list-style-type: lower-alpha;\">\n",
    "<li>Implemente o modelo simplificado e investigue o comportamento temporal de sua solu&ccedil;&atilde;o.</li>\n",
    "<li>Represente o modelo no plano de fase $V \\times m$, juntamente com as suas nuliclinas, e descreva a sua din&acirc;mica.</li>\n",
    "<li>Compare o comportamento deste modelo com o do modelo completo</li>"
   ]
  },
  {
   "cell_type": "code",
   "execution_count": null,
   "metadata": {},
   "outputs": [],
   "source": []
  }
 ],
 "metadata": {
  "kernelspec": {
   "display_name": "SageMath 9.3",
   "language": "sage",
   "name": "sagemath"
  },
  "language_info": {
   "codemirror_mode": {
    "name": "ipython",
    "version": 3
   },
   "file_extension": ".py",
   "mimetype": "text/x-python",
   "name": "python",
   "nbconvert_exporter": "python",
   "pygments_lexer": "ipython3",
   "version": "3.9.2"
  }
 },
 "nbformat": 4,
 "nbformat_minor": 4
}
